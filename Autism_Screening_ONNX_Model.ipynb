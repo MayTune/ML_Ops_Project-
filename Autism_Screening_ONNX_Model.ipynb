{
  "nbformat": 4,
  "nbformat_minor": 0,
  "metadata": {
    "colab": {
      "name": "Autism Screening_ONNX Model.ipynb",
      "provenance": [],
      "collapsed_sections": [],
      "include_colab_link": true
    },
    "kernelspec": {
      "name": "python3",
      "display_name": "Python 3"
    },
    "language_info": {
      "name": "python"
    },
    "widgets": {
      "application/vnd.jupyter.widget-state+json": {
        "e9786ab7b6a94996af6ed44433e8361b": {
          "model_module": "@jupyter-widgets/controls",
          "model_name": "VBoxModel",
          "model_module_version": "1.5.0",
          "state": {
            "_view_name": "VBoxView",
            "_dom_classes": [],
            "_model_name": "VBoxModel",
            "_view_module": "@jupyter-widgets/controls",
            "_model_module_version": "1.5.0",
            "_view_count": null,
            "_view_module_version": "1.5.0",
            "box_style": "",
            "layout": "IPY_MODEL_ae82982acd7541a89de6f36f4f875f86",
            "_model_module": "@jupyter-widgets/controls",
            "children": [
              "IPY_MODEL_aded3a49e6d8434fb8ba413e4c185748",
              "IPY_MODEL_29ceb522c26a4066bee4bb30aece439a"
            ]
          }
        },
        "ae82982acd7541a89de6f36f4f875f86": {
          "model_module": "@jupyter-widgets/base",
          "model_name": "LayoutModel",
          "model_module_version": "1.2.0",
          "state": {
            "_view_name": "LayoutView",
            "grid_template_rows": null,
            "right": null,
            "justify_content": null,
            "_view_module": "@jupyter-widgets/base",
            "overflow": null,
            "_model_module_version": "1.2.0",
            "_view_count": null,
            "flex_flow": null,
            "width": null,
            "min_width": null,
            "border": null,
            "align_items": null,
            "bottom": null,
            "_model_module": "@jupyter-widgets/base",
            "top": null,
            "grid_column": null,
            "overflow_y": null,
            "overflow_x": null,
            "grid_auto_flow": null,
            "grid_area": null,
            "grid_template_columns": null,
            "flex": null,
            "_model_name": "LayoutModel",
            "justify_items": null,
            "grid_row": null,
            "max_height": null,
            "align_content": null,
            "visibility": null,
            "align_self": null,
            "height": null,
            "min_height": null,
            "padding": null,
            "grid_auto_rows": null,
            "grid_gap": null,
            "max_width": null,
            "order": null,
            "_view_module_version": "1.2.0",
            "grid_template_areas": null,
            "object_position": null,
            "object_fit": null,
            "grid_auto_columns": null,
            "margin": null,
            "display": null,
            "left": null
          }
        },
        "aded3a49e6d8434fb8ba413e4c185748": {
          "model_module": "@jupyter-widgets/controls",
          "model_name": "LabelModel",
          "model_module_version": "1.5.0",
          "state": {
            "_view_name": "LabelView",
            "style": "IPY_MODEL_4a563cf1064942c3b8ea9d798d98a698",
            "_dom_classes": [],
            "description": "",
            "_model_name": "LabelModel",
            "placeholder": "​",
            "_view_module": "@jupyter-widgets/controls",
            "_model_module_version": "1.5.0",
            "value": " 0.01MB of 0.01MB uploaded (0.00MB deduped)\r",
            "_view_count": null,
            "_view_module_version": "1.5.0",
            "description_tooltip": null,
            "_model_module": "@jupyter-widgets/controls",
            "layout": "IPY_MODEL_709f6f6b9a064ab391831ab277a5dc8c"
          }
        },
        "29ceb522c26a4066bee4bb30aece439a": {
          "model_module": "@jupyter-widgets/controls",
          "model_name": "FloatProgressModel",
          "model_module_version": "1.5.0",
          "state": {
            "_view_name": "ProgressView",
            "style": "IPY_MODEL_137a10e3c0854c2681467213427e3104",
            "_dom_classes": [],
            "description": "",
            "_model_name": "FloatProgressModel",
            "bar_style": "",
            "max": 1,
            "_view_module": "@jupyter-widgets/controls",
            "_model_module_version": "1.5.0",
            "value": 1,
            "_view_count": null,
            "_view_module_version": "1.5.0",
            "orientation": "horizontal",
            "min": 0,
            "description_tooltip": null,
            "_model_module": "@jupyter-widgets/controls",
            "layout": "IPY_MODEL_b572b8f026904be2b266c099ae37774f"
          }
        },
        "4a563cf1064942c3b8ea9d798d98a698": {
          "model_module": "@jupyter-widgets/controls",
          "model_name": "DescriptionStyleModel",
          "model_module_version": "1.5.0",
          "state": {
            "_view_name": "StyleView",
            "_model_name": "DescriptionStyleModel",
            "description_width": "",
            "_view_module": "@jupyter-widgets/base",
            "_model_module_version": "1.5.0",
            "_view_count": null,
            "_view_module_version": "1.2.0",
            "_model_module": "@jupyter-widgets/controls"
          }
        },
        "709f6f6b9a064ab391831ab277a5dc8c": {
          "model_module": "@jupyter-widgets/base",
          "model_name": "LayoutModel",
          "model_module_version": "1.2.0",
          "state": {
            "_view_name": "LayoutView",
            "grid_template_rows": null,
            "right": null,
            "justify_content": null,
            "_view_module": "@jupyter-widgets/base",
            "overflow": null,
            "_model_module_version": "1.2.0",
            "_view_count": null,
            "flex_flow": null,
            "width": null,
            "min_width": null,
            "border": null,
            "align_items": null,
            "bottom": null,
            "_model_module": "@jupyter-widgets/base",
            "top": null,
            "grid_column": null,
            "overflow_y": null,
            "overflow_x": null,
            "grid_auto_flow": null,
            "grid_area": null,
            "grid_template_columns": null,
            "flex": null,
            "_model_name": "LayoutModel",
            "justify_items": null,
            "grid_row": null,
            "max_height": null,
            "align_content": null,
            "visibility": null,
            "align_self": null,
            "height": null,
            "min_height": null,
            "padding": null,
            "grid_auto_rows": null,
            "grid_gap": null,
            "max_width": null,
            "order": null,
            "_view_module_version": "1.2.0",
            "grid_template_areas": null,
            "object_position": null,
            "object_fit": null,
            "grid_auto_columns": null,
            "margin": null,
            "display": null,
            "left": null
          }
        },
        "137a10e3c0854c2681467213427e3104": {
          "model_module": "@jupyter-widgets/controls",
          "model_name": "ProgressStyleModel",
          "model_module_version": "1.5.0",
          "state": {
            "_view_name": "StyleView",
            "_model_name": "ProgressStyleModel",
            "description_width": "",
            "_view_module": "@jupyter-widgets/base",
            "_model_module_version": "1.5.0",
            "_view_count": null,
            "_view_module_version": "1.2.0",
            "bar_color": null,
            "_model_module": "@jupyter-widgets/controls"
          }
        },
        "b572b8f026904be2b266c099ae37774f": {
          "model_module": "@jupyter-widgets/base",
          "model_name": "LayoutModel",
          "model_module_version": "1.2.0",
          "state": {
            "_view_name": "LayoutView",
            "grid_template_rows": null,
            "right": null,
            "justify_content": null,
            "_view_module": "@jupyter-widgets/base",
            "overflow": null,
            "_model_module_version": "1.2.0",
            "_view_count": null,
            "flex_flow": null,
            "width": null,
            "min_width": null,
            "border": null,
            "align_items": null,
            "bottom": null,
            "_model_module": "@jupyter-widgets/base",
            "top": null,
            "grid_column": null,
            "overflow_y": null,
            "overflow_x": null,
            "grid_auto_flow": null,
            "grid_area": null,
            "grid_template_columns": null,
            "flex": null,
            "_model_name": "LayoutModel",
            "justify_items": null,
            "grid_row": null,
            "max_height": null,
            "align_content": null,
            "visibility": null,
            "align_self": null,
            "height": null,
            "min_height": null,
            "padding": null,
            "grid_auto_rows": null,
            "grid_gap": null,
            "max_width": null,
            "order": null,
            "_view_module_version": "1.2.0",
            "grid_template_areas": null,
            "object_position": null,
            "object_fit": null,
            "grid_auto_columns": null,
            "margin": null,
            "display": null,
            "left": null
          }
        }
      }
    }
  },
  "cells": [
    {
      "cell_type": "markdown",
      "metadata": {
        "id": "view-in-github",
        "colab_type": "text"
      },
      "source": [
        "<a href=\"https://colab.research.google.com/github/thisisSHAX/ML_Ops_Project-/blob/main/Autism_Screening_ONNX_Model.ipynb\" target=\"_parent\"><img src=\"https://colab.research.google.com/assets/colab-badge.svg\" alt=\"Open In Colab\"/></a>"
      ]
    },
    {
      "cell_type": "markdown",
      "metadata": {
        "id": "PqIwKgwEQX5w"
      },
      "source": [
        "### Installing required libraries"
      ]
    },
    {
      "cell_type": "code",
      "metadata": {
        "colab": {
          "base_uri": "https://localhost:8080/"
        },
        "id": "3n2cOtqbQa9s",
        "outputId": "6523885c-194c-4dee-a90a-c8069c580b39"
      },
      "source": [
        "!pip install wandb\n",
        "!pip install onnx\n",
        "!pip install skl2onnx\n",
        "!pip install onnxruntime\n",
        "!pip install onnxmltools"
      ],
      "execution_count": 1,
      "outputs": [
        {
          "output_type": "stream",
          "name": "stdout",
          "text": [
            "Collecting wandb\n",
            "  Downloading wandb-0.12.7-py2.py3-none-any.whl (1.7 MB)\n",
            "\u001b[?25l\r\u001b[K     |▏                               | 10 kB 28.2 MB/s eta 0:00:01\r\u001b[K     |▍                               | 20 kB 37.5 MB/s eta 0:00:01\r\u001b[K     |▋                               | 30 kB 44.9 MB/s eta 0:00:01\r\u001b[K     |▊                               | 40 kB 30.9 MB/s eta 0:00:01\r\u001b[K     |█                               | 51 kB 17.3 MB/s eta 0:00:01\r\u001b[K     |█▏                              | 61 kB 17.2 MB/s eta 0:00:01\r\u001b[K     |█▍                              | 71 kB 13.0 MB/s eta 0:00:01\r\u001b[K     |█▌                              | 81 kB 14.3 MB/s eta 0:00:01\r\u001b[K     |█▊                              | 92 kB 15.6 MB/s eta 0:00:01\r\u001b[K     |██                              | 102 kB 13.8 MB/s eta 0:00:01\r\u001b[K     |██▏                             | 112 kB 13.8 MB/s eta 0:00:01\r\u001b[K     |██▎                             | 122 kB 13.8 MB/s eta 0:00:01\r\u001b[K     |██▌                             | 133 kB 13.8 MB/s eta 0:00:01\r\u001b[K     |██▊                             | 143 kB 13.8 MB/s eta 0:00:01\r\u001b[K     |███                             | 153 kB 13.8 MB/s eta 0:00:01\r\u001b[K     |███                             | 163 kB 13.8 MB/s eta 0:00:01\r\u001b[K     |███▎                            | 174 kB 13.8 MB/s eta 0:00:01\r\u001b[K     |███▌                            | 184 kB 13.8 MB/s eta 0:00:01\r\u001b[K     |███▊                            | 194 kB 13.8 MB/s eta 0:00:01\r\u001b[K     |███▉                            | 204 kB 13.8 MB/s eta 0:00:01\r\u001b[K     |████                            | 215 kB 13.8 MB/s eta 0:00:01\r\u001b[K     |████▎                           | 225 kB 13.8 MB/s eta 0:00:01\r\u001b[K     |████▌                           | 235 kB 13.8 MB/s eta 0:00:01\r\u001b[K     |████▋                           | 245 kB 13.8 MB/s eta 0:00:01\r\u001b[K     |████▉                           | 256 kB 13.8 MB/s eta 0:00:01\r\u001b[K     |█████                           | 266 kB 13.8 MB/s eta 0:00:01\r\u001b[K     |█████▎                          | 276 kB 13.8 MB/s eta 0:00:01\r\u001b[K     |█████▍                          | 286 kB 13.8 MB/s eta 0:00:01\r\u001b[K     |█████▋                          | 296 kB 13.8 MB/s eta 0:00:01\r\u001b[K     |█████▉                          | 307 kB 13.8 MB/s eta 0:00:01\r\u001b[K     |██████                          | 317 kB 13.8 MB/s eta 0:00:01\r\u001b[K     |██████▏                         | 327 kB 13.8 MB/s eta 0:00:01\r\u001b[K     |██████▍                         | 337 kB 13.8 MB/s eta 0:00:01\r\u001b[K     |██████▋                         | 348 kB 13.8 MB/s eta 0:00:01\r\u001b[K     |██████▉                         | 358 kB 13.8 MB/s eta 0:00:01\r\u001b[K     |███████                         | 368 kB 13.8 MB/s eta 0:00:01\r\u001b[K     |███████▏                        | 378 kB 13.8 MB/s eta 0:00:01\r\u001b[K     |███████▍                        | 389 kB 13.8 MB/s eta 0:00:01\r\u001b[K     |███████▋                        | 399 kB 13.8 MB/s eta 0:00:01\r\u001b[K     |███████▊                        | 409 kB 13.8 MB/s eta 0:00:01\r\u001b[K     |████████                        | 419 kB 13.8 MB/s eta 0:00:01\r\u001b[K     |████████▏                       | 430 kB 13.8 MB/s eta 0:00:01\r\u001b[K     |████████▍                       | 440 kB 13.8 MB/s eta 0:00:01\r\u001b[K     |████████▌                       | 450 kB 13.8 MB/s eta 0:00:01\r\u001b[K     |████████▊                       | 460 kB 13.8 MB/s eta 0:00:01\r\u001b[K     |█████████                       | 471 kB 13.8 MB/s eta 0:00:01\r\u001b[K     |█████████                       | 481 kB 13.8 MB/s eta 0:00:01\r\u001b[K     |█████████▎                      | 491 kB 13.8 MB/s eta 0:00:01\r\u001b[K     |█████████▌                      | 501 kB 13.8 MB/s eta 0:00:01\r\u001b[K     |█████████▊                      | 512 kB 13.8 MB/s eta 0:00:01\r\u001b[K     |█████████▉                      | 522 kB 13.8 MB/s eta 0:00:01\r\u001b[K     |██████████                      | 532 kB 13.8 MB/s eta 0:00:01\r\u001b[K     |██████████▎                     | 542 kB 13.8 MB/s eta 0:00:01\r\u001b[K     |██████████▌                     | 552 kB 13.8 MB/s eta 0:00:01\r\u001b[K     |██████████▋                     | 563 kB 13.8 MB/s eta 0:00:01\r\u001b[K     |██████████▉                     | 573 kB 13.8 MB/s eta 0:00:01\r\u001b[K     |███████████                     | 583 kB 13.8 MB/s eta 0:00:01\r\u001b[K     |███████████▎                    | 593 kB 13.8 MB/s eta 0:00:01\r\u001b[K     |███████████▍                    | 604 kB 13.8 MB/s eta 0:00:01\r\u001b[K     |███████████▋                    | 614 kB 13.8 MB/s eta 0:00:01\r\u001b[K     |███████████▉                    | 624 kB 13.8 MB/s eta 0:00:01\r\u001b[K     |████████████                    | 634 kB 13.8 MB/s eta 0:00:01\r\u001b[K     |████████████▏                   | 645 kB 13.8 MB/s eta 0:00:01\r\u001b[K     |████████████▍                   | 655 kB 13.8 MB/s eta 0:00:01\r\u001b[K     |████████████▋                   | 665 kB 13.8 MB/s eta 0:00:01\r\u001b[K     |████████████▉                   | 675 kB 13.8 MB/s eta 0:00:01\r\u001b[K     |█████████████                   | 686 kB 13.8 MB/s eta 0:00:01\r\u001b[K     |█████████████▏                  | 696 kB 13.8 MB/s eta 0:00:01\r\u001b[K     |█████████████▍                  | 706 kB 13.8 MB/s eta 0:00:01\r\u001b[K     |█████████████▋                  | 716 kB 13.8 MB/s eta 0:00:01\r\u001b[K     |█████████████▊                  | 727 kB 13.8 MB/s eta 0:00:01\r\u001b[K     |██████████████                  | 737 kB 13.8 MB/s eta 0:00:01\r\u001b[K     |██████████████▏                 | 747 kB 13.8 MB/s eta 0:00:01\r\u001b[K     |██████████████▍                 | 757 kB 13.8 MB/s eta 0:00:01\r\u001b[K     |██████████████▌                 | 768 kB 13.8 MB/s eta 0:00:01\r\u001b[K     |██████████████▊                 | 778 kB 13.8 MB/s eta 0:00:01\r\u001b[K     |███████████████                 | 788 kB 13.8 MB/s eta 0:00:01\r\u001b[K     |███████████████▏                | 798 kB 13.8 MB/s eta 0:00:01\r\u001b[K     |███████████████▎                | 808 kB 13.8 MB/s eta 0:00:01\r\u001b[K     |███████████████▌                | 819 kB 13.8 MB/s eta 0:00:01\r\u001b[K     |███████████████▊                | 829 kB 13.8 MB/s eta 0:00:01\r\u001b[K     |████████████████                | 839 kB 13.8 MB/s eta 0:00:01\r\u001b[K     |████████████████                | 849 kB 13.8 MB/s eta 0:00:01\r\u001b[K     |████████████████▎               | 860 kB 13.8 MB/s eta 0:00:01\r\u001b[K     |████████████████▌               | 870 kB 13.8 MB/s eta 0:00:01\r\u001b[K     |████████████████▊               | 880 kB 13.8 MB/s eta 0:00:01\r\u001b[K     |████████████████▉               | 890 kB 13.8 MB/s eta 0:00:01\r\u001b[K     |█████████████████               | 901 kB 13.8 MB/s eta 0:00:01\r\u001b[K     |█████████████████▎              | 911 kB 13.8 MB/s eta 0:00:01\r\u001b[K     |█████████████████▍              | 921 kB 13.8 MB/s eta 0:00:01\r\u001b[K     |█████████████████▋              | 931 kB 13.8 MB/s eta 0:00:01\r\u001b[K     |█████████████████▉              | 942 kB 13.8 MB/s eta 0:00:01\r\u001b[K     |██████████████████              | 952 kB 13.8 MB/s eta 0:00:01\r\u001b[K     |██████████████████▏             | 962 kB 13.8 MB/s eta 0:00:01\r\u001b[K     |██████████████████▍             | 972 kB 13.8 MB/s eta 0:00:01\r\u001b[K     |██████████████████▋             | 983 kB 13.8 MB/s eta 0:00:01\r\u001b[K     |██████████████████▉             | 993 kB 13.8 MB/s eta 0:00:01\r\u001b[K     |███████████████████             | 1.0 MB 13.8 MB/s eta 0:00:01\r\u001b[K     |███████████████████▏            | 1.0 MB 13.8 MB/s eta 0:00:01\r\u001b[K     |███████████████████▍            | 1.0 MB 13.8 MB/s eta 0:00:01\r\u001b[K     |███████████████████▋            | 1.0 MB 13.8 MB/s eta 0:00:01\r\u001b[K     |███████████████████▊            | 1.0 MB 13.8 MB/s eta 0:00:01\r\u001b[K     |████████████████████            | 1.1 MB 13.8 MB/s eta 0:00:01\r\u001b[K     |████████████████████▏           | 1.1 MB 13.8 MB/s eta 0:00:01\r\u001b[K     |████████████████████▍           | 1.1 MB 13.8 MB/s eta 0:00:01\r\u001b[K     |████████████████████▌           | 1.1 MB 13.8 MB/s eta 0:00:01\r\u001b[K     |████████████████████▊           | 1.1 MB 13.8 MB/s eta 0:00:01\r\u001b[K     |█████████████████████           | 1.1 MB 13.8 MB/s eta 0:00:01\r\u001b[K     |█████████████████████▏          | 1.1 MB 13.8 MB/s eta 0:00:01\r\u001b[K     |█████████████████████▎          | 1.1 MB 13.8 MB/s eta 0:00:01\r\u001b[K     |█████████████████████▌          | 1.1 MB 13.8 MB/s eta 0:00:01\r\u001b[K     |█████████████████████▊          | 1.1 MB 13.8 MB/s eta 0:00:01\r\u001b[K     |██████████████████████          | 1.2 MB 13.8 MB/s eta 0:00:01\r\u001b[K     |██████████████████████          | 1.2 MB 13.8 MB/s eta 0:00:01\r\u001b[K     |██████████████████████▎         | 1.2 MB 13.8 MB/s eta 0:00:01\r\u001b[K     |██████████████████████▌         | 1.2 MB 13.8 MB/s eta 0:00:01\r\u001b[K     |██████████████████████▊         | 1.2 MB 13.8 MB/s eta 0:00:01\r\u001b[K     |██████████████████████▉         | 1.2 MB 13.8 MB/s eta 0:00:01\r\u001b[K     |███████████████████████         | 1.2 MB 13.8 MB/s eta 0:00:01\r\u001b[K     |███████████████████████▎        | 1.2 MB 13.8 MB/s eta 0:00:01\r\u001b[K     |███████████████████████▌        | 1.2 MB 13.8 MB/s eta 0:00:01\r\u001b[K     |███████████████████████▋        | 1.2 MB 13.8 MB/s eta 0:00:01\r\u001b[K     |███████████████████████▉        | 1.3 MB 13.8 MB/s eta 0:00:01\r\u001b[K     |████████████████████████        | 1.3 MB 13.8 MB/s eta 0:00:01\r\u001b[K     |████████████████████████▎       | 1.3 MB 13.8 MB/s eta 0:00:01\r\u001b[K     |████████████████████████▍       | 1.3 MB 13.8 MB/s eta 0:00:01\r\u001b[K     |████████████████████████▋       | 1.3 MB 13.8 MB/s eta 0:00:01\r\u001b[K     |████████████████████████▉       | 1.3 MB 13.8 MB/s eta 0:00:01\r\u001b[K     |█████████████████████████       | 1.3 MB 13.8 MB/s eta 0:00:01\r\u001b[K     |█████████████████████████▏      | 1.3 MB 13.8 MB/s eta 0:00:01\r\u001b[K     |█████████████████████████▍      | 1.3 MB 13.8 MB/s eta 0:00:01\r\u001b[K     |█████████████████████████▋      | 1.4 MB 13.8 MB/s eta 0:00:01\r\u001b[K     |█████████████████████████▊      | 1.4 MB 13.8 MB/s eta 0:00:01\r\u001b[K     |██████████████████████████      | 1.4 MB 13.8 MB/s eta 0:00:01\r\u001b[K     |██████████████████████████▏     | 1.4 MB 13.8 MB/s eta 0:00:01\r\u001b[K     |██████████████████████████▍     | 1.4 MB 13.8 MB/s eta 0:00:01\r\u001b[K     |██████████████████████████▌     | 1.4 MB 13.8 MB/s eta 0:00:01\r\u001b[K     |██████████████████████████▊     | 1.4 MB 13.8 MB/s eta 0:00:01\r\u001b[K     |███████████████████████████     | 1.4 MB 13.8 MB/s eta 0:00:01\r\u001b[K     |███████████████████████████▏    | 1.4 MB 13.8 MB/s eta 0:00:01\r\u001b[K     |███████████████████████████▎    | 1.4 MB 13.8 MB/s eta 0:00:01\r\u001b[K     |███████████████████████████▌    | 1.5 MB 13.8 MB/s eta 0:00:01\r\u001b[K     |███████████████████████████▊    | 1.5 MB 13.8 MB/s eta 0:00:01\r\u001b[K     |████████████████████████████    | 1.5 MB 13.8 MB/s eta 0:00:01\r\u001b[K     |████████████████████████████    | 1.5 MB 13.8 MB/s eta 0:00:01\r\u001b[K     |████████████████████████████▎   | 1.5 MB 13.8 MB/s eta 0:00:01\r\u001b[K     |████████████████████████████▌   | 1.5 MB 13.8 MB/s eta 0:00:01\r\u001b[K     |████████████████████████████▊   | 1.5 MB 13.8 MB/s eta 0:00:01\r\u001b[K     |████████████████████████████▉   | 1.5 MB 13.8 MB/s eta 0:00:01\r\u001b[K     |█████████████████████████████   | 1.5 MB 13.8 MB/s eta 0:00:01\r\u001b[K     |█████████████████████████████▎  | 1.5 MB 13.8 MB/s eta 0:00:01\r\u001b[K     |█████████████████████████████▌  | 1.6 MB 13.8 MB/s eta 0:00:01\r\u001b[K     |█████████████████████████████▋  | 1.6 MB 13.8 MB/s eta 0:00:01\r\u001b[K     |█████████████████████████████▉  | 1.6 MB 13.8 MB/s eta 0:00:01\r\u001b[K     |██████████████████████████████  | 1.6 MB 13.8 MB/s eta 0:00:01\r\u001b[K     |██████████████████████████████▎ | 1.6 MB 13.8 MB/s eta 0:00:01\r\u001b[K     |██████████████████████████████▍ | 1.6 MB 13.8 MB/s eta 0:00:01\r\u001b[K     |██████████████████████████████▋ | 1.6 MB 13.8 MB/s eta 0:00:01\r\u001b[K     |██████████████████████████████▉ | 1.6 MB 13.8 MB/s eta 0:00:01\r\u001b[K     |███████████████████████████████ | 1.6 MB 13.8 MB/s eta 0:00:01\r\u001b[K     |███████████████████████████████▏| 1.6 MB 13.8 MB/s eta 0:00:01\r\u001b[K     |███████████████████████████████▍| 1.7 MB 13.8 MB/s eta 0:00:01\r\u001b[K     |███████████████████████████████▋| 1.7 MB 13.8 MB/s eta 0:00:01\r\u001b[K     |███████████████████████████████▉| 1.7 MB 13.8 MB/s eta 0:00:01\r\u001b[K     |████████████████████████████████| 1.7 MB 13.8 MB/s eta 0:00:01\r\u001b[K     |████████████████████████████████| 1.7 MB 13.8 MB/s \n",
            "\u001b[?25hCollecting yaspin>=1.0.0\n",
            "  Downloading yaspin-2.1.0-py3-none-any.whl (18 kB)\n",
            "Collecting pathtools\n",
            "  Downloading pathtools-0.1.2.tar.gz (11 kB)\n",
            "Collecting configparser>=3.8.1\n",
            "  Downloading configparser-5.1.0-py3-none-any.whl (19 kB)\n",
            "Collecting GitPython>=1.0.0\n",
            "  Downloading GitPython-3.1.24-py3-none-any.whl (180 kB)\n",
            "\u001b[K     |████████████████████████████████| 180 kB 66.3 MB/s \n",
            "\u001b[?25hRequirement already satisfied: protobuf>=3.12.0 in /usr/local/lib/python3.7/dist-packages (from wandb) (3.17.3)\n",
            "Requirement already satisfied: six>=1.13.0 in /usr/local/lib/python3.7/dist-packages (from wandb) (1.15.0)\n",
            "Collecting shortuuid>=0.5.0\n",
            "  Downloading shortuuid-1.0.8-py3-none-any.whl (9.5 kB)\n",
            "Collecting subprocess32>=3.5.3\n",
            "  Downloading subprocess32-3.5.4.tar.gz (97 kB)\n",
            "\u001b[K     |████████████████████████████████| 97 kB 5.4 MB/s \n",
            "\u001b[?25hRequirement already satisfied: psutil>=5.0.0 in /usr/local/lib/python3.7/dist-packages (from wandb) (5.4.8)\n",
            "Requirement already satisfied: requests<3,>=2.0.0 in /usr/local/lib/python3.7/dist-packages (from wandb) (2.23.0)\n",
            "Requirement already satisfied: Click!=8.0.0,>=7.0 in /usr/local/lib/python3.7/dist-packages (from wandb) (7.1.2)\n",
            "Collecting sentry-sdk>=1.0.0\n",
            "  Downloading sentry_sdk-1.5.0-py2.py3-none-any.whl (140 kB)\n",
            "\u001b[K     |████████████████████████████████| 140 kB 80.6 MB/s \n",
            "\u001b[?25hRequirement already satisfied: promise<3,>=2.0 in /usr/local/lib/python3.7/dist-packages (from wandb) (2.3)\n",
            "Requirement already satisfied: PyYAML in /usr/local/lib/python3.7/dist-packages (from wandb) (3.13)\n",
            "Requirement already satisfied: python-dateutil>=2.6.1 in /usr/local/lib/python3.7/dist-packages (from wandb) (2.8.2)\n",
            "Collecting docker-pycreds>=0.4.0\n",
            "  Downloading docker_pycreds-0.4.0-py2.py3-none-any.whl (9.0 kB)\n",
            "Requirement already satisfied: typing-extensions>=3.7.4.3 in /usr/local/lib/python3.7/dist-packages (from GitPython>=1.0.0->wandb) (3.10.0.2)\n",
            "Collecting gitdb<5,>=4.0.1\n",
            "  Downloading gitdb-4.0.9-py3-none-any.whl (63 kB)\n",
            "\u001b[K     |████████████████████████████████| 63 kB 1.4 MB/s \n",
            "\u001b[?25hCollecting smmap<6,>=3.0.1\n",
            "  Downloading smmap-5.0.0-py3-none-any.whl (24 kB)\n",
            "Requirement already satisfied: urllib3!=1.25.0,!=1.25.1,<1.26,>=1.21.1 in /usr/local/lib/python3.7/dist-packages (from requests<3,>=2.0.0->wandb) (1.24.3)\n",
            "Requirement already satisfied: chardet<4,>=3.0.2 in /usr/local/lib/python3.7/dist-packages (from requests<3,>=2.0.0->wandb) (3.0.4)\n",
            "Requirement already satisfied: certifi>=2017.4.17 in /usr/local/lib/python3.7/dist-packages (from requests<3,>=2.0.0->wandb) (2021.10.8)\n",
            "Requirement already satisfied: idna<3,>=2.5 in /usr/local/lib/python3.7/dist-packages (from requests<3,>=2.0.0->wandb) (2.10)\n",
            "Requirement already satisfied: termcolor<2.0.0,>=1.1.0 in /usr/local/lib/python3.7/dist-packages (from yaspin>=1.0.0->wandb) (1.1.0)\n",
            "Building wheels for collected packages: subprocess32, pathtools\n",
            "  Building wheel for subprocess32 (setup.py) ... \u001b[?25l\u001b[?25hdone\n",
            "  Created wheel for subprocess32: filename=subprocess32-3.5.4-py3-none-any.whl size=6502 sha256=6f5b8d2aed3abebb3ab9662152045fda4390040d9c0b1f82abd9bf6d5586224a\n",
            "  Stored in directory: /root/.cache/pip/wheels/50/ca/fa/8fca8d246e64f19488d07567547ddec8eb084e8c0d7a59226a\n",
            "  Building wheel for pathtools (setup.py) ... \u001b[?25l\u001b[?25hdone\n",
            "  Created wheel for pathtools: filename=pathtools-0.1.2-py3-none-any.whl size=8807 sha256=ca1248f6138a1c97d1ce7f12a1228a4f8a724e66479e948ee74f3135941b552c\n",
            "  Stored in directory: /root/.cache/pip/wheels/3e/31/09/fa59cef12cdcfecc627b3d24273699f390e71828921b2cbba2\n",
            "Successfully built subprocess32 pathtools\n",
            "Installing collected packages: smmap, gitdb, yaspin, subprocess32, shortuuid, sentry-sdk, pathtools, GitPython, docker-pycreds, configparser, wandb\n",
            "Successfully installed GitPython-3.1.24 configparser-5.1.0 docker-pycreds-0.4.0 gitdb-4.0.9 pathtools-0.1.2 sentry-sdk-1.5.0 shortuuid-1.0.8 smmap-5.0.0 subprocess32-3.5.4 wandb-0.12.7 yaspin-2.1.0\n",
            "Collecting onnx\n",
            "  Downloading onnx-1.10.2-cp37-cp37m-manylinux_2_12_x86_64.manylinux2010_x86_64.whl (12.7 MB)\n",
            "\u001b[K     |████████████████████████████████| 12.7 MB 12.9 MB/s \n",
            "\u001b[?25hRequirement already satisfied: protobuf in /usr/local/lib/python3.7/dist-packages (from onnx) (3.17.3)\n",
            "Requirement already satisfied: numpy>=1.16.6 in /usr/local/lib/python3.7/dist-packages (from onnx) (1.19.5)\n",
            "Requirement already satisfied: typing-extensions>=3.6.2.1 in /usr/local/lib/python3.7/dist-packages (from onnx) (3.10.0.2)\n",
            "Requirement already satisfied: six in /usr/local/lib/python3.7/dist-packages (from onnx) (1.15.0)\n",
            "Installing collected packages: onnx\n",
            "Successfully installed onnx-1.10.2\n",
            "Collecting skl2onnx\n",
            "  Downloading skl2onnx-1.10.2-py2.py3-none-any.whl (271 kB)\n",
            "\u001b[K     |████████████████████████████████| 271 kB 13.8 MB/s \n",
            "\u001b[?25hRequirement already satisfied: scikit-learn>=0.19 in /usr/local/lib/python3.7/dist-packages (from skl2onnx) (1.0.1)\n",
            "Requirement already satisfied: protobuf in /usr/local/lib/python3.7/dist-packages (from skl2onnx) (3.17.3)\n",
            "Collecting onnxconverter-common>=1.7.0\n",
            "  Downloading onnxconverter_common-1.8.1-py2.py3-none-any.whl (77 kB)\n",
            "\u001b[K     |████████████████████████████████| 77 kB 5.2 MB/s \n",
            "\u001b[?25hRequirement already satisfied: scipy>=1.0 in /usr/local/lib/python3.7/dist-packages (from skl2onnx) (1.4.1)\n",
            "Requirement already satisfied: onnx>=1.2.1 in /usr/local/lib/python3.7/dist-packages (from skl2onnx) (1.10.2)\n",
            "Requirement already satisfied: numpy>=1.15 in /usr/local/lib/python3.7/dist-packages (from skl2onnx) (1.19.5)\n",
            "Requirement already satisfied: six in /usr/local/lib/python3.7/dist-packages (from onnx>=1.2.1->skl2onnx) (1.15.0)\n",
            "Requirement already satisfied: typing-extensions>=3.6.2.1 in /usr/local/lib/python3.7/dist-packages (from onnx>=1.2.1->skl2onnx) (3.10.0.2)\n",
            "Requirement already satisfied: threadpoolctl>=2.0.0 in /usr/local/lib/python3.7/dist-packages (from scikit-learn>=0.19->skl2onnx) (3.0.0)\n",
            "Requirement already satisfied: joblib>=0.11 in /usr/local/lib/python3.7/dist-packages (from scikit-learn>=0.19->skl2onnx) (1.1.0)\n",
            "Installing collected packages: onnxconverter-common, skl2onnx\n",
            "Successfully installed onnxconverter-common-1.8.1 skl2onnx-1.10.2\n",
            "Collecting onnxruntime\n",
            "  Downloading onnxruntime-1.9.0-cp37-cp37m-manylinux_2_17_x86_64.manylinux2014_x86_64.whl (4.8 MB)\n",
            "\u001b[K     |████████████████████████████████| 4.8 MB 11.6 MB/s \n",
            "\u001b[?25hRequirement already satisfied: protobuf in /usr/local/lib/python3.7/dist-packages (from onnxruntime) (3.17.3)\n",
            "Requirement already satisfied: flatbuffers in /usr/local/lib/python3.7/dist-packages (from onnxruntime) (2.0)\n",
            "Requirement already satisfied: numpy>=1.16.6 in /usr/local/lib/python3.7/dist-packages (from onnxruntime) (1.19.5)\n",
            "Requirement already satisfied: six>=1.9 in /usr/local/lib/python3.7/dist-packages (from protobuf->onnxruntime) (1.15.0)\n",
            "Installing collected packages: onnxruntime\n",
            "Successfully installed onnxruntime-1.9.0\n",
            "Collecting onnxmltools\n",
            "  Downloading onnxmltools-1.10.0-py2.py3-none-any.whl (300 kB)\n",
            "\u001b[K     |████████████████████████████████| 300 kB 14.4 MB/s \n",
            "\u001b[?25hRequirement already satisfied: skl2onnx in /usr/local/lib/python3.7/dist-packages (from onnxmltools) (1.10.2)\n",
            "Requirement already satisfied: onnx in /usr/local/lib/python3.7/dist-packages (from onnxmltools) (1.10.2)\n",
            "Requirement already satisfied: numpy in /usr/local/lib/python3.7/dist-packages (from onnxmltools) (1.19.5)\n",
            "Requirement already satisfied: six in /usr/local/lib/python3.7/dist-packages (from onnx->onnxmltools) (1.15.0)\n",
            "Requirement already satisfied: typing-extensions>=3.6.2.1 in /usr/local/lib/python3.7/dist-packages (from onnx->onnxmltools) (3.10.0.2)\n",
            "Requirement already satisfied: protobuf in /usr/local/lib/python3.7/dist-packages (from onnx->onnxmltools) (3.17.3)\n",
            "Requirement already satisfied: scikit-learn>=0.19 in /usr/local/lib/python3.7/dist-packages (from skl2onnx->onnxmltools) (1.0.1)\n",
            "Requirement already satisfied: onnxconverter-common>=1.7.0 in /usr/local/lib/python3.7/dist-packages (from skl2onnx->onnxmltools) (1.8.1)\n",
            "Requirement already satisfied: scipy>=1.0 in /usr/local/lib/python3.7/dist-packages (from skl2onnx->onnxmltools) (1.4.1)\n",
            "Requirement already satisfied: threadpoolctl>=2.0.0 in /usr/local/lib/python3.7/dist-packages (from scikit-learn>=0.19->skl2onnx->onnxmltools) (3.0.0)\n",
            "Requirement already satisfied: joblib>=0.11 in /usr/local/lib/python3.7/dist-packages (from scikit-learn>=0.19->skl2onnx->onnxmltools) (1.1.0)\n",
            "Installing collected packages: onnxmltools\n",
            "Successfully installed onnxmltools-1.10.0\n"
          ]
        }
      ]
    },
    {
      "cell_type": "code",
      "metadata": {
        "id": "KHRVaXWIQfAl"
      },
      "source": [
        "import pandas as pd\n",
        "import numpy as np\n",
        "from sklearn.model_selection import train_test_split\n",
        "from sklearn.linear_model import LogisticRegression\n",
        "from sklearn.metrics import r2_score, mean_squared_error\n",
        "from sklearn.compose import ColumnTransformer\n",
        "from sklearn.pipeline import Pipeline\n",
        "from sklearn.impute import SimpleImputer\n",
        "from sklearn.preprocessing import StandardScaler, OneHotEncoder\n",
        "from xgboost import XGBRegressor\n",
        "from onnx.tools.net_drawer import GetPydotGraph, GetOpNodeProducer\n",
        "import onnxruntime as rt\n",
        "from skl2onnx import convert_sklearn, __version__, update_registered_converter\n",
        "from skl2onnx.common.data_types import FloatTensorType, StringTensorType\n",
        "from skl2onnx.common.data_types import Int64TensorType\n",
        "from skl2onnx.common.shape_calculator import calculate_linear_regressor_output_shapes\n",
        "from onnxmltools.convert.xgboost.operator_converters.XGBoost import convert_xgboost  # noqa\n",
        "import pprint\n",
        "import os\n",
        "import wandb"
      ],
      "execution_count": 2,
      "outputs": []
    },
    {
      "cell_type": "markdown",
      "metadata": {
        "id": "aI-_s3fjQkZS"
      },
      "source": [
        "### Loading the dataset"
      ]
    },
    {
      "cell_type": "code",
      "metadata": {
        "id": "JlhXkoGlQnzX"
      },
      "source": [
        "df = pd.read_csv('https://drive.google.com/uc?export=download&id=16Pd-BdhzNMzPqPWD6XEu_XFZaGrSqFUz')"
      ],
      "execution_count": 3,
      "outputs": []
    },
    {
      "cell_type": "code",
      "metadata": {
        "colab": {
          "base_uri": "https://localhost:8080/",
          "height": 206
        },
        "id": "Ql45peWbQ47B",
        "outputId": "2bfe4ca9-c68c-4872-883f-035d9a382546"
      },
      "source": [
        "df.head()"
      ],
      "execution_count": 4,
      "outputs": [
        {
          "output_type": "execute_result",
          "data": {
            "text/html": [
              "<div>\n",
              "<style scoped>\n",
              "    .dataframe tbody tr th:only-of-type {\n",
              "        vertical-align: middle;\n",
              "    }\n",
              "\n",
              "    .dataframe tbody tr th {\n",
              "        vertical-align: top;\n",
              "    }\n",
              "\n",
              "    .dataframe thead th {\n",
              "        text-align: right;\n",
              "    }\n",
              "</style>\n",
              "<table border=\"1\" class=\"dataframe\">\n",
              "  <thead>\n",
              "    <tr style=\"text-align: right;\">\n",
              "      <th></th>\n",
              "      <th>Case_No</th>\n",
              "      <th>A1</th>\n",
              "      <th>A2</th>\n",
              "      <th>A3</th>\n",
              "      <th>A4</th>\n",
              "      <th>A5</th>\n",
              "      <th>A6</th>\n",
              "      <th>A7</th>\n",
              "      <th>A8</th>\n",
              "      <th>A9</th>\n",
              "      <th>A10</th>\n",
              "      <th>Age_Mons</th>\n",
              "      <th>Qchat-10-Score</th>\n",
              "      <th>Sex</th>\n",
              "      <th>Ethnicity</th>\n",
              "      <th>Jaundice</th>\n",
              "      <th>Family_mem_with_ASD</th>\n",
              "      <th>Who completed the test</th>\n",
              "      <th>Class/ASD Traits</th>\n",
              "    </tr>\n",
              "  </thead>\n",
              "  <tbody>\n",
              "    <tr>\n",
              "      <th>0</th>\n",
              "      <td>1</td>\n",
              "      <td>0</td>\n",
              "      <td>0</td>\n",
              "      <td>0</td>\n",
              "      <td>0</td>\n",
              "      <td>0</td>\n",
              "      <td>0</td>\n",
              "      <td>1</td>\n",
              "      <td>1</td>\n",
              "      <td>0</td>\n",
              "      <td>1</td>\n",
              "      <td>28</td>\n",
              "      <td>3</td>\n",
              "      <td>f</td>\n",
              "      <td>middle eastern</td>\n",
              "      <td>yes</td>\n",
              "      <td>no</td>\n",
              "      <td>family member</td>\n",
              "      <td>No</td>\n",
              "    </tr>\n",
              "    <tr>\n",
              "      <th>1</th>\n",
              "      <td>2</td>\n",
              "      <td>1</td>\n",
              "      <td>1</td>\n",
              "      <td>0</td>\n",
              "      <td>0</td>\n",
              "      <td>0</td>\n",
              "      <td>1</td>\n",
              "      <td>1</td>\n",
              "      <td>0</td>\n",
              "      <td>0</td>\n",
              "      <td>0</td>\n",
              "      <td>36</td>\n",
              "      <td>4</td>\n",
              "      <td>m</td>\n",
              "      <td>White European</td>\n",
              "      <td>yes</td>\n",
              "      <td>no</td>\n",
              "      <td>family member</td>\n",
              "      <td>Yes</td>\n",
              "    </tr>\n",
              "    <tr>\n",
              "      <th>2</th>\n",
              "      <td>3</td>\n",
              "      <td>1</td>\n",
              "      <td>0</td>\n",
              "      <td>0</td>\n",
              "      <td>0</td>\n",
              "      <td>0</td>\n",
              "      <td>0</td>\n",
              "      <td>1</td>\n",
              "      <td>1</td>\n",
              "      <td>0</td>\n",
              "      <td>1</td>\n",
              "      <td>36</td>\n",
              "      <td>4</td>\n",
              "      <td>m</td>\n",
              "      <td>middle eastern</td>\n",
              "      <td>yes</td>\n",
              "      <td>no</td>\n",
              "      <td>family member</td>\n",
              "      <td>Yes</td>\n",
              "    </tr>\n",
              "    <tr>\n",
              "      <th>3</th>\n",
              "      <td>4</td>\n",
              "      <td>1</td>\n",
              "      <td>1</td>\n",
              "      <td>1</td>\n",
              "      <td>1</td>\n",
              "      <td>1</td>\n",
              "      <td>1</td>\n",
              "      <td>1</td>\n",
              "      <td>1</td>\n",
              "      <td>1</td>\n",
              "      <td>1</td>\n",
              "      <td>24</td>\n",
              "      <td>10</td>\n",
              "      <td>m</td>\n",
              "      <td>Hispanic</td>\n",
              "      <td>no</td>\n",
              "      <td>no</td>\n",
              "      <td>family member</td>\n",
              "      <td>Yes</td>\n",
              "    </tr>\n",
              "    <tr>\n",
              "      <th>4</th>\n",
              "      <td>5</td>\n",
              "      <td>1</td>\n",
              "      <td>1</td>\n",
              "      <td>0</td>\n",
              "      <td>1</td>\n",
              "      <td>1</td>\n",
              "      <td>1</td>\n",
              "      <td>1</td>\n",
              "      <td>1</td>\n",
              "      <td>1</td>\n",
              "      <td>1</td>\n",
              "      <td>20</td>\n",
              "      <td>9</td>\n",
              "      <td>f</td>\n",
              "      <td>White European</td>\n",
              "      <td>no</td>\n",
              "      <td>yes</td>\n",
              "      <td>family member</td>\n",
              "      <td>Yes</td>\n",
              "    </tr>\n",
              "  </tbody>\n",
              "</table>\n",
              "</div>"
            ],
            "text/plain": [
              "   Case_No  A1  A2  ...  Family_mem_with_ASD  Who completed the test  Class/ASD Traits \n",
              "0        1   0   0  ...                   no           family member                 No\n",
              "1        2   1   1  ...                   no           family member                Yes\n",
              "2        3   1   0  ...                   no           family member                Yes\n",
              "3        4   1   1  ...                   no           family member                Yes\n",
              "4        5   1   1  ...                  yes           family member                Yes\n",
              "\n",
              "[5 rows x 19 columns]"
            ]
          },
          "metadata": {},
          "execution_count": 4
        }
      ]
    },
    {
      "cell_type": "markdown",
      "metadata": {
        "id": "38bUVhRpfY-B"
      },
      "source": [
        "### Identifying categorical and numerical variables"
      ]
    },
    {
      "cell_type": "code",
      "metadata": {
        "id": "WFzqfSbNfAZs"
      },
      "source": [
        "x_columns = ['A1','A2','A3','A4','A5','A6','A7','A8','A9','A10','Age_Mons','Sex','Ethnicity','Jaundice','Family_mem_with_ASD']"
      ],
      "execution_count": 5,
      "outputs": []
    },
    {
      "cell_type": "code",
      "metadata": {
        "id": "AmVGWrwIfC4g"
      },
      "source": [
        "cat_features = ['A1','A2','A3','A4','A5','A6','A7','A8','A9','A10','Sex','Ethnicity','Jaundice','Family_mem_with_ASD']"
      ],
      "execution_count": 6,
      "outputs": []
    },
    {
      "cell_type": "code",
      "metadata": {
        "id": "sjk9A4yQfE06"
      },
      "source": [
        "num_features = list(set(x_columns) - set(cat_features))"
      ],
      "execution_count": 7,
      "outputs": []
    },
    {
      "cell_type": "code",
      "metadata": {
        "id": "148-0wtffKJx"
      },
      "source": [
        "encoded_df = pd.get_dummies(df[x_columns], columns=cat_features, drop_first = True)"
      ],
      "execution_count": 8,
      "outputs": []
    },
    {
      "cell_type": "code",
      "metadata": {
        "colab": {
          "base_uri": "https://localhost:8080/",
          "height": 243
        },
        "id": "VSTy4wwVfMqS",
        "outputId": "c331dab9-d5d7-4289-d414-3877864145c3"
      },
      "source": [
        "encoded_df.sample(5)"
      ],
      "execution_count": 9,
      "outputs": [
        {
          "output_type": "execute_result",
          "data": {
            "text/html": [
              "<div>\n",
              "<style scoped>\n",
              "    .dataframe tbody tr th:only-of-type {\n",
              "        vertical-align: middle;\n",
              "    }\n",
              "\n",
              "    .dataframe tbody tr th {\n",
              "        vertical-align: top;\n",
              "    }\n",
              "\n",
              "    .dataframe thead th {\n",
              "        text-align: right;\n",
              "    }\n",
              "</style>\n",
              "<table border=\"1\" class=\"dataframe\">\n",
              "  <thead>\n",
              "    <tr style=\"text-align: right;\">\n",
              "      <th></th>\n",
              "      <th>Age_Mons</th>\n",
              "      <th>A1_1</th>\n",
              "      <th>A2_1</th>\n",
              "      <th>A3_1</th>\n",
              "      <th>A4_1</th>\n",
              "      <th>A5_1</th>\n",
              "      <th>A6_1</th>\n",
              "      <th>A7_1</th>\n",
              "      <th>A8_1</th>\n",
              "      <th>A9_1</th>\n",
              "      <th>A10_1</th>\n",
              "      <th>Sex_m</th>\n",
              "      <th>Ethnicity_Latino</th>\n",
              "      <th>Ethnicity_Native Indian</th>\n",
              "      <th>Ethnicity_Others</th>\n",
              "      <th>Ethnicity_Pacifica</th>\n",
              "      <th>Ethnicity_White European</th>\n",
              "      <th>Ethnicity_asian</th>\n",
              "      <th>Ethnicity_black</th>\n",
              "      <th>Ethnicity_middle eastern</th>\n",
              "      <th>Ethnicity_mixed</th>\n",
              "      <th>Ethnicity_south asian</th>\n",
              "      <th>Jaundice_yes</th>\n",
              "      <th>Family_mem_with_ASD_yes</th>\n",
              "    </tr>\n",
              "  </thead>\n",
              "  <tbody>\n",
              "    <tr>\n",
              "      <th>72</th>\n",
              "      <td>21</td>\n",
              "      <td>1</td>\n",
              "      <td>1</td>\n",
              "      <td>1</td>\n",
              "      <td>1</td>\n",
              "      <td>1</td>\n",
              "      <td>1</td>\n",
              "      <td>1</td>\n",
              "      <td>1</td>\n",
              "      <td>1</td>\n",
              "      <td>1</td>\n",
              "      <td>0</td>\n",
              "      <td>0</td>\n",
              "      <td>0</td>\n",
              "      <td>0</td>\n",
              "      <td>0</td>\n",
              "      <td>1</td>\n",
              "      <td>0</td>\n",
              "      <td>0</td>\n",
              "      <td>0</td>\n",
              "      <td>0</td>\n",
              "      <td>0</td>\n",
              "      <td>0</td>\n",
              "      <td>0</td>\n",
              "    </tr>\n",
              "    <tr>\n",
              "      <th>575</th>\n",
              "      <td>35</td>\n",
              "      <td>0</td>\n",
              "      <td>0</td>\n",
              "      <td>0</td>\n",
              "      <td>0</td>\n",
              "      <td>1</td>\n",
              "      <td>1</td>\n",
              "      <td>0</td>\n",
              "      <td>0</td>\n",
              "      <td>1</td>\n",
              "      <td>1</td>\n",
              "      <td>1</td>\n",
              "      <td>0</td>\n",
              "      <td>0</td>\n",
              "      <td>0</td>\n",
              "      <td>0</td>\n",
              "      <td>0</td>\n",
              "      <td>1</td>\n",
              "      <td>0</td>\n",
              "      <td>0</td>\n",
              "      <td>0</td>\n",
              "      <td>0</td>\n",
              "      <td>1</td>\n",
              "      <td>0</td>\n",
              "    </tr>\n",
              "    <tr>\n",
              "      <th>86</th>\n",
              "      <td>22</td>\n",
              "      <td>0</td>\n",
              "      <td>0</td>\n",
              "      <td>0</td>\n",
              "      <td>0</td>\n",
              "      <td>0</td>\n",
              "      <td>0</td>\n",
              "      <td>0</td>\n",
              "      <td>0</td>\n",
              "      <td>0</td>\n",
              "      <td>0</td>\n",
              "      <td>1</td>\n",
              "      <td>0</td>\n",
              "      <td>0</td>\n",
              "      <td>0</td>\n",
              "      <td>0</td>\n",
              "      <td>0</td>\n",
              "      <td>0</td>\n",
              "      <td>0</td>\n",
              "      <td>1</td>\n",
              "      <td>0</td>\n",
              "      <td>0</td>\n",
              "      <td>1</td>\n",
              "      <td>1</td>\n",
              "    </tr>\n",
              "    <tr>\n",
              "      <th>164</th>\n",
              "      <td>12</td>\n",
              "      <td>0</td>\n",
              "      <td>0</td>\n",
              "      <td>0</td>\n",
              "      <td>0</td>\n",
              "      <td>0</td>\n",
              "      <td>0</td>\n",
              "      <td>1</td>\n",
              "      <td>0</td>\n",
              "      <td>0</td>\n",
              "      <td>0</td>\n",
              "      <td>1</td>\n",
              "      <td>0</td>\n",
              "      <td>0</td>\n",
              "      <td>0</td>\n",
              "      <td>0</td>\n",
              "      <td>0</td>\n",
              "      <td>1</td>\n",
              "      <td>0</td>\n",
              "      <td>0</td>\n",
              "      <td>0</td>\n",
              "      <td>0</td>\n",
              "      <td>0</td>\n",
              "      <td>0</td>\n",
              "    </tr>\n",
              "    <tr>\n",
              "      <th>447</th>\n",
              "      <td>12</td>\n",
              "      <td>1</td>\n",
              "      <td>1</td>\n",
              "      <td>1</td>\n",
              "      <td>1</td>\n",
              "      <td>1</td>\n",
              "      <td>1</td>\n",
              "      <td>1</td>\n",
              "      <td>1</td>\n",
              "      <td>1</td>\n",
              "      <td>1</td>\n",
              "      <td>1</td>\n",
              "      <td>0</td>\n",
              "      <td>0</td>\n",
              "      <td>0</td>\n",
              "      <td>1</td>\n",
              "      <td>0</td>\n",
              "      <td>0</td>\n",
              "      <td>0</td>\n",
              "      <td>0</td>\n",
              "      <td>0</td>\n",
              "      <td>0</td>\n",
              "      <td>0</td>\n",
              "      <td>0</td>\n",
              "    </tr>\n",
              "  </tbody>\n",
              "</table>\n",
              "</div>"
            ],
            "text/plain": [
              "     Age_Mons  A1_1  ...  Jaundice_yes  Family_mem_with_ASD_yes\n",
              "72         21     1  ...             0                        0\n",
              "575        35     0  ...             1                        0\n",
              "86         22     0  ...             1                        1\n",
              "164        12     0  ...             0                        0\n",
              "447        12     1  ...             0                        0\n",
              "\n",
              "[5 rows x 24 columns]"
            ]
          },
          "metadata": {},
          "execution_count": 9
        }
      ]
    },
    {
      "cell_type": "code",
      "metadata": {
        "id": "jSon1-K_fPN_"
      },
      "source": [
        "x_features = list(encoded_df.columns)"
      ],
      "execution_count": 10,
      "outputs": []
    },
    {
      "cell_type": "code",
      "metadata": {
        "colab": {
          "base_uri": "https://localhost:8080/"
        },
        "id": "WpMAphDDfRSK",
        "outputId": "d47f7f7b-986c-4308-8fed-143412f96af7"
      },
      "source": [
        "encoded_df.shape"
      ],
      "execution_count": 11,
      "outputs": [
        {
          "output_type": "execute_result",
          "data": {
            "text/plain": [
              "(1054, 24)"
            ]
          },
          "metadata": {},
          "execution_count": 11
        }
      ]
    },
    {
      "cell_type": "markdown",
      "metadata": {
        "id": "_3UPojSafVFN"
      },
      "source": [
        "### Data Splitting"
      ]
    },
    {
      "cell_type": "code",
      "metadata": {
        "id": "sGQakl3ifdpq"
      },
      "source": [
        "X = encoded_df"
      ],
      "execution_count": 12,
      "outputs": []
    },
    {
      "cell_type": "code",
      "metadata": {
        "id": "GwMteX4CfhSm"
      },
      "source": [
        "Y = pd.get_dummies(df['Class/ASD Traits '], drop_first=True)"
      ],
      "execution_count": 13,
      "outputs": []
    },
    {
      "cell_type": "code",
      "metadata": {
        "id": "K3fnEjiKfrWj"
      },
      "source": [
        "# Splitting after One - Hot Encoding\n",
        "X_train, X_test, Y_train, Y_test = train_test_split(X, Y, test_size=0.2, random_state=1)\n",
        "\n",
        "X_train, X_prod, Y_train, Y_prod = train_test_split(X_train, Y_train, test_size=0.25, random_state=2) # 0.25 x 0.8 = 0.2"
      ],
      "execution_count": 14,
      "outputs": []
    },
    {
      "cell_type": "code",
      "metadata": {
        "id": "BR6xGJFvl8Ig"
      },
      "source": [
        "# Splitting\n",
        "train_X, test_X, train_Y, test_Y = train_test_split(df[x_columns], Y, test_size=0.2, random_state=1)\n",
        "\n",
        "train_X, prod_X, train_Y, prod_Y = train_test_split(train_X, train_Y, test_size=0.25, random_state=2) # 0.25 x 0.8 = 0.2"
      ],
      "execution_count": 15,
      "outputs": []
    },
    {
      "cell_type": "code",
      "metadata": {
        "colab": {
          "base_uri": "https://localhost:8080/",
          "height": 423
        },
        "id": "MmlxzgoO1Yqj",
        "outputId": "17738a20-8437-49f9-ebcf-cb007035ca34"
      },
      "source": [
        "Y_train"
      ],
      "execution_count": 16,
      "outputs": [
        {
          "output_type": "execute_result",
          "data": {
            "text/html": [
              "<div>\n",
              "<style scoped>\n",
              "    .dataframe tbody tr th:only-of-type {\n",
              "        vertical-align: middle;\n",
              "    }\n",
              "\n",
              "    .dataframe tbody tr th {\n",
              "        vertical-align: top;\n",
              "    }\n",
              "\n",
              "    .dataframe thead th {\n",
              "        text-align: right;\n",
              "    }\n",
              "</style>\n",
              "<table border=\"1\" class=\"dataframe\">\n",
              "  <thead>\n",
              "    <tr style=\"text-align: right;\">\n",
              "      <th></th>\n",
              "      <th>Yes</th>\n",
              "    </tr>\n",
              "  </thead>\n",
              "  <tbody>\n",
              "    <tr>\n",
              "      <th>462</th>\n",
              "      <td>1</td>\n",
              "    </tr>\n",
              "    <tr>\n",
              "      <th>852</th>\n",
              "      <td>1</td>\n",
              "    </tr>\n",
              "    <tr>\n",
              "      <th>1010</th>\n",
              "      <td>1</td>\n",
              "    </tr>\n",
              "    <tr>\n",
              "      <th>296</th>\n",
              "      <td>0</td>\n",
              "    </tr>\n",
              "    <tr>\n",
              "      <th>573</th>\n",
              "      <td>1</td>\n",
              "    </tr>\n",
              "    <tr>\n",
              "      <th>...</th>\n",
              "      <td>...</td>\n",
              "    </tr>\n",
              "    <tr>\n",
              "      <th>300</th>\n",
              "      <td>1</td>\n",
              "    </tr>\n",
              "    <tr>\n",
              "      <th>787</th>\n",
              "      <td>1</td>\n",
              "    </tr>\n",
              "    <tr>\n",
              "      <th>637</th>\n",
              "      <td>0</td>\n",
              "    </tr>\n",
              "    <tr>\n",
              "      <th>624</th>\n",
              "      <td>1</td>\n",
              "    </tr>\n",
              "    <tr>\n",
              "      <th>66</th>\n",
              "      <td>1</td>\n",
              "    </tr>\n",
              "  </tbody>\n",
              "</table>\n",
              "<p>632 rows × 1 columns</p>\n",
              "</div>"
            ],
            "text/plain": [
              "      Yes\n",
              "462     1\n",
              "852     1\n",
              "1010    1\n",
              "296     0\n",
              "573     1\n",
              "...   ...\n",
              "300     1\n",
              "787     1\n",
              "637     0\n",
              "624     1\n",
              "66      1\n",
              "\n",
              "[632 rows x 1 columns]"
            ]
          },
          "metadata": {},
          "execution_count": 16
        }
      ]
    },
    {
      "cell_type": "markdown",
      "metadata": {
        "id": "kairbl6Of2lp"
      },
      "source": [
        "### Creating the pipeline for deployment"
      ]
    },
    {
      "cell_type": "code",
      "metadata": {
        "colab": {
          "base_uri": "https://localhost:8080/"
        },
        "id": "ysnyvGqT2Pj4",
        "outputId": "62042ca9-4cb2-420d-86ce-1b79ec6c9e0c"
      },
      "source": [
        "numeric_transformer = Pipeline(steps=[('scaler', StandardScaler())])\n",
        "\n",
        "categorical_transformer = Pipeline(steps=[('onehot', \n",
        "                                           OneHotEncoder(drop='first', sparse=False))])\n",
        "\n",
        "preprocessor = ColumnTransformer(\n",
        "    transformers=[\n",
        "        ('num', numeric_transformer, num_features),                  \n",
        "        ('cat', categorical_transformer, cat_features),\n",
        "    ])\n",
        "\n",
        "params = { \"n_estimators\": 400,\n",
        "           \"max_depth\": 4,\n",
        "           \"objective\": 'reg:squarederror' }\n",
        "\n",
        "#xgb_regressor = XGBRegressor(**params)\n",
        "\n",
        "clf1 = Pipeline(steps=[('preprocessor', preprocessor),\n",
        "                      (\"classifier\", LogisticRegression(random_state=100))])           \n",
        "\n",
        "clf1.fit(train_X, train_Y)\n",
        "\n",
        "\n",
        "\n",
        "#rmse = np.sqrt(mean_squared_error(test_Y, \n",
        "#                                  reg.predict(test_X)))"
      ],
      "execution_count": 17,
      "outputs": [
        {
          "output_type": "stream",
          "name": "stderr",
          "text": [
            "/usr/local/lib/python3.7/dist-packages/sklearn/utils/validation.py:985: DataConversionWarning: A column-vector y was passed when a 1d array was expected. Please change the shape of y to (n_samples, ), for example using ravel().\n",
            "  y = column_or_1d(y, warn=True)\n"
          ]
        },
        {
          "output_type": "execute_result",
          "data": {
            "text/plain": [
              "Pipeline(steps=[('preprocessor',\n",
              "                 ColumnTransformer(transformers=[('num',\n",
              "                                                  Pipeline(steps=[('scaler',\n",
              "                                                                   StandardScaler())]),\n",
              "                                                  ['Age_Mons']),\n",
              "                                                 ('cat',\n",
              "                                                  Pipeline(steps=[('onehot',\n",
              "                                                                   OneHotEncoder(drop='first',\n",
              "                                                                                 sparse=False))]),\n",
              "                                                  ['A1', 'A2', 'A3', 'A4', 'A5',\n",
              "                                                   'A6', 'A7', 'A8', 'A9',\n",
              "                                                   'A10', 'Sex', 'Ethnicity',\n",
              "                                                   'Jaundice',\n",
              "                                                   'Family_mem_with_ASD'])])),\n",
              "                ('classifier', LogisticRegression(random_state=100))])"
            ]
          },
          "metadata": {},
          "execution_count": 17
        }
      ]
    },
    {
      "cell_type": "code",
      "metadata": {
        "id": "rM6aoOwa3y06"
      },
      "source": [
        "pred1_Y = clf1.predict(test_X)"
      ],
      "execution_count": 18,
      "outputs": []
    },
    {
      "cell_type": "code",
      "metadata": {
        "colab": {
          "base_uri": "https://localhost:8080/",
          "height": 343
        },
        "id": "SpHJcrAD3jFb",
        "outputId": "e9cd0629-1598-49bd-8eeb-84f3b35257eb"
      },
      "source": [
        "# import the metrics class\n",
        "from sklearn import metrics\n",
        "\n",
        "cnf_matrix = metrics.confusion_matrix(test_Y, pred1_Y)\n",
        "cnf_matrix\n",
        "\n",
        "# import required modules\n",
        "import numpy as np\n",
        "import matplotlib.pyplot as plt\n",
        "import seaborn as sns\n",
        "\n",
        "class_names=[0,1] # name  of classes\n",
        "fig, ax = plt.subplots()\n",
        "tick_marks = np.arange(len(class_names))\n",
        "plt.xticks(tick_marks, class_names)\n",
        "plt.yticks(tick_marks, class_names)\n",
        "# create heatmap\n",
        "sns.heatmap(pd.DataFrame(cnf_matrix), annot=True, cmap=\"YlGnBu\" ,fmt='g')\n",
        "ax.xaxis.set_label_position(\"top\")\n",
        "plt.tight_layout()\n",
        "plt.title('Confusion matrix', y=1.1)\n",
        "plt.ylabel('Actual label')\n",
        "plt.xlabel('Predicted label')"
      ],
      "execution_count": 19,
      "outputs": [
        {
          "output_type": "execute_result",
          "data": {
            "text/plain": [
              "Text(0.5, 257.44, 'Predicted label')"
            ]
          },
          "metadata": {},
          "execution_count": 19
        },
        {
          "output_type": "display_data",
          "data": {
            "image/png": "[encoded data removed]",
            "text/plain": [
              "<Figure size 432x288 with 2 Axes>"
            ]
          },
          "metadata": {
            "needs_background": "light"
          }
        }
      ]
    },
    {
      "cell_type": "code",
      "metadata": {
        "id": "lVALvdIk3iKq"
      },
      "source": [
        "acc = metrics.accuracy_score(test_Y, pred1_Y)\n",
        "prec = metrics.precision_score(test_Y, pred1_Y)\n",
        "rec = metrics.recall_score(test_Y, pred1_Y)\n",
        "f1 = metrics.f1_score(test_Y, pred1_Y)\n",
        "spec = cnf_matrix.ravel()[0]/(cnf_matrix.ravel()[0]+cnf_matrix.ravel()[1])"
      ],
      "execution_count": 20,
      "outputs": []
    },
    {
      "cell_type": "code",
      "metadata": {
        "colab": {
          "base_uri": "https://localhost:8080/"
        },
        "id": "h2YVhqqTmSs5",
        "outputId": "25227560-0f67-443f-9dfd-975860b66271"
      },
      "source": [
        "print(acc)"
      ],
      "execution_count": 21,
      "outputs": [
        {
          "output_type": "stream",
          "name": "stdout",
          "text": [
            "1.0\n"
          ]
        }
      ]
    },
    {
      "cell_type": "markdown",
      "metadata": {
        "id": "hm7d7YDCmiE4"
      },
      "source": [
        "### Creating the ONNX Graph"
      ]
    },
    {
      "cell_type": "code",
      "metadata": {
        "colab": {
          "base_uri": "https://localhost:8080/"
        },
        "id": "JqVLFjvemgjs",
        "outputId": "207cb6b5-9c94-456f-dfe5-b7a87ad63508"
      },
      "source": [
        "def convert_dataframe_schema(df, drop=None):\n",
        "    inputs = []\n",
        "    for k, v in zip(df.columns, df.dtypes):\n",
        "        if drop is not None and k in drop:\n",
        "            continue\n",
        "        if v == 'int64':\n",
        "            t = FloatTensorType([None, 1])\n",
        "        elif v == 'float64':\n",
        "            t = FloatTensorType([None, 1])\n",
        "        else:\n",
        "            t = StringTensorType([None, 1])\n",
        "        inputs.append((k, t))\n",
        "    return inputs\n",
        "\n",
        "\n",
        "inputs = convert_dataframe_schema(train_X)\n",
        "\n",
        "pprint.pprint(inputs)"
      ],
      "execution_count": 22,
      "outputs": [
        {
          "output_type": "stream",
          "name": "stdout",
          "text": [
            "[('A1', FloatTensorType(shape=[None, 1])),\n",
            " ('A2', FloatTensorType(shape=[None, 1])),\n",
            " ('A3', FloatTensorType(shape=[None, 1])),\n",
            " ('A4', FloatTensorType(shape=[None, 1])),\n",
            " ('A5', FloatTensorType(shape=[None, 1])),\n",
            " ('A6', FloatTensorType(shape=[None, 1])),\n",
            " ('A7', FloatTensorType(shape=[None, 1])),\n",
            " ('A8', FloatTensorType(shape=[None, 1])),\n",
            " ('A9', FloatTensorType(shape=[None, 1])),\n",
            " ('A10', FloatTensorType(shape=[None, 1])),\n",
            " ('Age_Mons', FloatTensorType(shape=[None, 1])),\n",
            " ('Sex', StringTensorType(shape=[None, 1])),\n",
            " ('Ethnicity', StringTensorType(shape=[None, 1])),\n",
            " ('Jaundice', StringTensorType(shape=[None, 1])),\n",
            " ('Family_mem_with_ASD', StringTensorType(shape=[None, 1]))]\n"
          ]
        }
      ]
    },
    {
      "cell_type": "code",
      "metadata": {
        "id": "hpO1g-XQnZGt"
      },
      "source": [
        "#update_registered_converter(\n",
        "#    LogisticRegression, 'LogisticRegressor',\n",
        "#    calculate_linear_regressor_output_shapes, convert_xgboost)"
      ],
      "execution_count": 23,
      "outputs": []
    },
    {
      "cell_type": "markdown",
      "metadata": {
        "id": "WJmQaV6fncjI"
      },
      "source": [
        "### Converting the pipeline to ONNX format"
      ]
    },
    {
      "cell_type": "code",
      "metadata": {
        "id": "TJi4GOFsnfmu"
      },
      "source": [
        "model_onnx = convert_sklearn(\n",
        "    clf1, 'pipeline_logreg',\n",
        "    inputs)"
      ],
      "execution_count": 24,
      "outputs": []
    },
    {
      "cell_type": "markdown",
      "metadata": {
        "id": "iFiQBOLEnlAc"
      },
      "source": [
        "### Storing the pipeline in a file"
      ]
    },
    {
      "cell_type": "code",
      "metadata": {
        "id": "kZ4A83qinjPs"
      },
      "source": [
        "MODEL_DIR = \"./autismscreeningprod\"\n",
        "MODEL_FILE_NAME = \"autismscreening_logreg.onnx\""
      ],
      "execution_count": 25,
      "outputs": []
    },
    {
      "cell_type": "code",
      "metadata": {
        "id": "bIE1Ps1Cny4u"
      },
      "source": [
        "os.mkdir(MODEL_DIR)\n",
        "# And save.\n",
        "with open(MODEL_DIR + \"/\" + MODEL_FILE_NAME, \"wb\") as f:\n",
        "    f.write(model_onnx.SerializeToString())"
      ],
      "execution_count": 26,
      "outputs": []
    },
    {
      "cell_type": "code",
      "metadata": {
        "colab": {
          "base_uri": "https://localhost:8080/"
        },
        "id": "8IX2_4tgn2O1",
        "outputId": "c55079aa-62a1-4b2b-d94f-d0d4e1c60eeb"
      },
      "source": [
        "!ls -al"
      ],
      "execution_count": 27,
      "outputs": [
        {
          "output_type": "stream",
          "name": "stdout",
          "text": [
            "total 20\n",
            "drwxr-xr-x 1 root root 4096 Nov 25 10:10 .\n",
            "drwxr-xr-x 1 root root 4096 Nov 25 09:59 ..\n",
            "drwxr-xr-x 2 root root 4096 Nov 25 10:10 autismscreeningprod\n",
            "drwxr-xr-x 4 root root 4096 Nov 18 14:35 .config\n",
            "drwxr-xr-x 1 root root 4096 Nov 18 14:36 sample_data\n"
          ]
        }
      ]
    },
    {
      "cell_type": "markdown",
      "metadata": {
        "id": "P7TG0YE8n6aX"
      },
      "source": [
        "### Uploading the pipeline to weights and biases for tracking"
      ]
    },
    {
      "cell_type": "code",
      "metadata": {
        "id": "vl4dOuspn8DT"
      },
      "source": [
        "os.environ[\"WANDB_API_KEY\"] = \"26ff855733a63e9d999357d3e3bd1eb135cff5a5\""
      ],
      "execution_count": 28,
      "outputs": []
    },
    {
      "cell_type": "code",
      "metadata": {
        "colab": {
          "base_uri": "https://localhost:8080/",
          "height": 53
        },
        "id": "OvEtIcAhoMlN",
        "outputId": "a11c2094-a5a3-4d1f-abbd-aeb3bccc6ec7"
      },
      "source": [
        "wandb.init(project='Autism_Screening_ONNX', \n",
        "           config=params, \n",
        "           tags = ['LogReg', 'OneHotEncoding'])\n",
        "\n",
        "wandb.run.name = \"LogRegProdModel\""
      ],
      "execution_count": 29,
      "outputs": [
        {
          "output_type": "stream",
          "name": "stderr",
          "text": [
            "\u001b[34m\u001b[1mwandb\u001b[0m: Currently logged in as: \u001b[33mthisisshax\u001b[0m (use `wandb login --relogin` to force relogin)\n"
          ]
        },
        {
          "output_type": "display_data",
          "data": {
            "text/html": [
              "\n",
              "                    Syncing run <strong><a href=\"https://wandb.ai/thisisshax/Autism_Screening_ONNX/runs/1g7v22w2\" target=\"_blank\">vocal-frog-1</a></strong> to <a href=\"https://wandb.ai/thisisshax/Autism_Screening_ONNX\" target=\"_blank\">Weights & Biases</a> (<a href=\"https://docs.wandb.com/integrations/jupyter.html\" target=\"_blank\">docs</a>).<br/>\n",
              "\n",
              "                "
            ],
            "text/plain": [
              "<IPython.core.display.HTML object>"
            ]
          },
          "metadata": {}
        }
      ]
    },
    {
      "cell_type": "code",
      "metadata": {
        "id": "bWjWEfGdpXni"
      },
      "source": [
        "#wandb.log( {\"acc\" : acc} )\n",
        "wandb.log( {\"Accuracy\" : acc, \n",
        "              \"Precision\": prec,\n",
        "              \"Recall\": rec,\n",
        "              \"F1 score\" : f1} )"
      ],
      "execution_count": 30,
      "outputs": []
    },
    {
      "cell_type": "code",
      "metadata": {
        "id": "4J_7fM0GpgEv"
      },
      "source": [
        "model_artifact = wandb.Artifact(\"LogReg_AutismScreening\",\n",
        "                                type = 'model',\n",
        "                                description = 'LogReg Model for autism tracking prediction')"
      ],
      "execution_count": 31,
      "outputs": []
    },
    {
      "cell_type": "code",
      "metadata": {
        "colab": {
          "base_uri": "https://localhost:8080/"
        },
        "id": "45y5TSdHppOi",
        "outputId": "4287ceea-2f23-46a6-9973-59d2e77b6dc4"
      },
      "source": [
        "model_artifact.add_dir(MODEL_DIR)"
      ],
      "execution_count": 32,
      "outputs": [
        {
          "output_type": "stream",
          "name": "stderr",
          "text": [
            "\u001b[34m\u001b[1mwandb\u001b[0m: Adding directory to artifact (./autismscreeningprod)... Done. 0.1s\n"
          ]
        }
      ]
    },
    {
      "cell_type": "code",
      "metadata": {
        "id": "5I-LB-xcpsG7",
        "colab": {
          "base_uri": "https://localhost:8080/"
        },
        "outputId": "3b333872-1624-4569-de8e-2d632c549e7f"
      },
      "source": [
        "wandb.run.log_artifact(model_artifact)"
      ],
      "execution_count": 33,
      "outputs": [
        {
          "output_type": "execute_result",
          "data": {
            "text/plain": [
              "<wandb.sdk.wandb_artifacts.Artifact at 0x7f5d07357fd0>"
            ]
          },
          "metadata": {},
          "execution_count": 33
        }
      ]
    },
    {
      "cell_type": "code",
      "metadata": {
        "id": "BWVjGw-JpuyS",
        "colab": {
          "base_uri": "https://localhost:8080/",
          "height": 305,
          "referenced_widgets": [
            "e9786ab7b6a94996af6ed44433e8361b",
            "ae82982acd7541a89de6f36f4f875f86",
            "aded3a49e6d8434fb8ba413e4c185748",
            "29ceb522c26a4066bee4bb30aece439a",
            "4a563cf1064942c3b8ea9d798d98a698",
            "709f6f6b9a064ab391831ab277a5dc8c",
            "137a10e3c0854c2681467213427e3104",
            "b572b8f026904be2b266c099ae37774f"
          ]
        },
        "outputId": "d82ef275-9bc1-41e7-8d25-9c86dd246b9b"
      },
      "source": [
        "wandb.save()\n",
        "wandb.finish()"
      ],
      "execution_count": 34,
      "outputs": [
        {
          "output_type": "stream",
          "name": "stderr",
          "text": [
            "\u001b[34m\u001b[1mwandb\u001b[0m: \u001b[33mWARNING\u001b[0m Calling run.save without any arguments is deprecated.Changes to attributes are automatically persisted.\n"
          ]
        },
        {
          "output_type": "display_data",
          "data": {
            "text/html": [
              "<br/>Waiting for W&B process to finish, PID 245... <strong style=\"color:green\">(success).</strong>"
            ],
            "text/plain": [
              "<IPython.core.display.HTML object>"
            ]
          },
          "metadata": {}
        },
        {
          "output_type": "display_data",
          "data": {
            "application/vnd.jupyter.widget-view+json": {
              "model_id": "e9786ab7b6a94996af6ed44433e8361b",
              "version_minor": 0,
              "version_major": 2
            },
            "text/plain": [
              "VBox(children=(Label(value=' 0.01MB of 0.01MB uploaded (0.00MB deduped)\\r'), FloatProgress(value=1.0, max=1.0)…"
            ]
          },
          "metadata": {}
        },
        {
          "output_type": "display_data",
          "data": {
            "text/html": [
              "<style>\n",
              "    table.wandb td:nth-child(1) { padding: 0 10px; text-align: right }\n",
              "    .wandb-row { display: flex; flex-direction: row; flex-wrap: wrap; width: 100% }\n",
              "    .wandb-col { display: flex; flex-direction: column; flex-basis: 100%; flex: 1; padding: 10px; }\n",
              "    </style>\n",
              "<div class=\"wandb-row\"><div class=\"wandb-col\">\n",
              "<h3>Run history:</h3><br/><table class=\"wandb\"><tr><td>Accuracy</td><td>▁</td></tr><tr><td>F1 score</td><td>▁</td></tr><tr><td>Precision</td><td>▁</td></tr><tr><td>Recall</td><td>▁</td></tr></table><br/></div><div class=\"wandb-col\">\n",
              "<h3>Run summary:</h3><br/><table class=\"wandb\"><tr><td>Accuracy</td><td>1.0</td></tr><tr><td>F1 score</td><td>1.0</td></tr><tr><td>Precision</td><td>1.0</td></tr><tr><td>Recall</td><td>1.0</td></tr></table>\n",
              "</div></div>\n",
              "Synced 5 W&B file(s), 0 media file(s), 1 artifact file(s) and 0 other file(s)\n",
              "<br/>Synced <strong style=\"color:#cdcd00\">vocal-frog-1</strong>: <a href=\"https://wandb.ai/thisisshax/Autism_Screening_ONNX/runs/1g7v22w2\" target=\"_blank\">https://wandb.ai/thisisshax/Autism_Screening_ONNX/runs/1g7v22w2</a><br/>\n",
              "Find logs at: <code>./wandb/run-20211125_101255-1g7v22w2/logs</code><br/>\n"
            ],
            "text/plain": [
              "<IPython.core.display.HTML object>"
            ]
          },
          "metadata": {}
        }
      ]
    },
    {
      "cell_type": "code",
      "metadata": {
        "colab": {
          "base_uri": "https://localhost:8080/"
        },
        "id": "binheywGmcLG",
        "outputId": "ddc70af6-af0c-4e96-ceed-d09c0bd9fe88"
      },
      "source": [
        "!zip -r wandb_onnx.zip /content/wandb"
      ],
      "execution_count": 35,
      "outputs": [
        {
          "output_type": "stream",
          "name": "stdout",
          "text": [
            "  adding: content/wandb/ (stored 0%)\n",
            "  adding: content/wandb/debug-internal.log (deflated 89%)\n",
            "  adding: content/wandb/run-20211125_101255-1g7v22w2/ (stored 0%)\n",
            "  adding: content/wandb/run-20211125_101255-1g7v22w2/logs/ (stored 0%)\n",
            "  adding: content/wandb/run-20211125_101255-1g7v22w2/logs/debug-internal.log (deflated 89%)\n",
            "  adding: content/wandb/run-20211125_101255-1g7v22w2/logs/debug.log (deflated 82%)\n",
            "  adding: content/wandb/run-20211125_101255-1g7v22w2/files/ (stored 0%)\n",
            "  adding: content/wandb/run-20211125_101255-1g7v22w2/files/config.yaml (deflated 55%)\n",
            "  adding: content/wandb/run-20211125_101255-1g7v22w2/files/wandb-metadata.json (deflated 36%)\n",
            "  adding: content/wandb/run-20211125_101255-1g7v22w2/files/output.log (deflated 28%)\n",
            "  adding: content/wandb/run-20211125_101255-1g7v22w2/files/wandb-summary.json (deflated 31%)\n",
            "  adding: content/wandb/run-20211125_101255-1g7v22w2/files/requirements.txt (deflated 55%)\n",
            "  adding: content/wandb/run-20211125_101255-1g7v22w2/tmp/ (stored 0%)\n",
            "  adding: content/wandb/run-20211125_101255-1g7v22w2/tmp/code/ (stored 0%)\n",
            "  adding: content/wandb/run-20211125_101255-1g7v22w2/run-1g7v22w2.wandb (deflated 56%)\n",
            "  adding: content/wandb/debug.log (deflated 82%)\n",
            "  adding: content/wandb/latest-run/ (stored 0%)\n",
            "  adding: content/wandb/latest-run/logs/ (stored 0%)\n",
            "  adding: content/wandb/latest-run/logs/debug-internal.log (deflated 89%)\n",
            "  adding: content/wandb/latest-run/logs/debug.log (deflated 82%)\n",
            "  adding: content/wandb/latest-run/files/ (stored 0%)\n",
            "  adding: content/wandb/latest-run/files/config.yaml (deflated 55%)\n",
            "  adding: content/wandb/latest-run/files/wandb-metadata.json (deflated 36%)\n",
            "  adding: content/wandb/latest-run/files/output.log (deflated 28%)\n",
            "  adding: content/wandb/latest-run/files/wandb-summary.json (deflated 31%)\n",
            "  adding: content/wandb/latest-run/files/requirements.txt (deflated 55%)\n",
            "  adding: content/wandb/latest-run/tmp/ (stored 0%)\n",
            "  adding: content/wandb/latest-run/tmp/code/ (stored 0%)\n",
            "  adding: content/wandb/latest-run/run-1g7v22w2.wandb (deflated 56%)\n"
          ]
        }
      ]
    },
    {
      "cell_type": "code",
      "metadata": {
        "id": "Q13bLlpEmfGC"
      },
      "source": [
        ""
      ],
      "execution_count": null,
      "outputs": []
    }
  ]
}