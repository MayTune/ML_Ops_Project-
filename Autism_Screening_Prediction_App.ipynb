{
  "nbformat": 4,
  "nbformat_minor": 0,
  "metadata": {
    "colab": {
      "name": "Autism_Screening_Prediction_App.ipynb",
      "provenance": [],
      "include_colab_link": true
    },
    "kernelspec": {
      "display_name": "Python 3",
      "name": "python3"
    },
    "language_info": {
      "name": "python"
    }
  },
  "cells": [
    {
      "cell_type": "markdown",
      "metadata": {
        "id": "view-in-github",
        "colab_type": "text"
      },
      "source": [
        "<a href=\"https://colab.research.google.com/github/thisisSHAX/ML_Ops_Project-/blob/main/Autism_Screening_Prediction_App.ipynb\" target=\"_parent\"><img src=\"https://colab.research.google.com/assets/colab-badge.svg\" alt=\"Open In Colab\"/></a>"
      ]
    },
    {
      "cell_type": "markdown",
      "metadata": {
        "id": "lMEwLUe6dt1U"
      },
      "source": [
        "### Creating a web app to deploy the model"
      ]
    },
    {
      "cell_type": "code",
      "metadata": {
        "colab": {
          "base_uri": "https://localhost:8080/"
        },
        "id": "zlBPg_DNdrmr",
        "outputId": "1ba52311-6b9d-4227-b073-d0dc157b645a"
      },
      "source": [
        "!pip install wandb\n",
        "!pip install onnxruntime\n",
        "!pip install -q gradio "
      ],
      "execution_count": 1,
      "outputs": [
        {
          "output_type": "stream",
          "name": "stdout",
          "text": [
            "Collecting wandb\n",
            "  Downloading wandb-0.12.7-py2.py3-none-any.whl (1.7 MB)\n",
            "\u001b[K     |████████████████████████████████| 1.7 MB 29.2 MB/s \n",
            "\u001b[?25hCollecting sentry-sdk>=1.0.0\n",
            "  Downloading sentry_sdk-1.5.0-py2.py3-none-any.whl (140 kB)\n",
            "\u001b[K     |████████████████████████████████| 140 kB 56.2 MB/s \n",
            "\u001b[?25hCollecting docker-pycreds>=0.4.0\n",
            "  Downloading docker_pycreds-0.4.0-py2.py3-none-any.whl (9.0 kB)\n",
            "Collecting shortuuid>=0.5.0\n",
            "  Downloading shortuuid-1.0.8-py3-none-any.whl (9.5 kB)\n",
            "Collecting configparser>=3.8.1\n",
            "  Downloading configparser-5.1.0-py3-none-any.whl (19 kB)\n",
            "Collecting pathtools\n",
            "  Downloading pathtools-0.1.2.tar.gz (11 kB)\n",
            "Collecting subprocess32>=3.5.3\n",
            "  Downloading subprocess32-3.5.4.tar.gz (97 kB)\n",
            "\u001b[K     |████████████████████████████████| 97 kB 6.6 MB/s \n",
            "\u001b[?25hRequirement already satisfied: python-dateutil>=2.6.1 in /usr/local/lib/python3.7/dist-packages (from wandb) (2.8.2)\n",
            "Requirement already satisfied: Click!=8.0.0,>=7.0 in /usr/local/lib/python3.7/dist-packages (from wandb) (7.1.2)\n",
            "Collecting GitPython>=1.0.0\n",
            "  Downloading GitPython-3.1.24-py3-none-any.whl (180 kB)\n",
            "\u001b[K     |████████████████████████████████| 180 kB 49.0 MB/s \n",
            "\u001b[?25hRequirement already satisfied: six>=1.13.0 in /usr/local/lib/python3.7/dist-packages (from wandb) (1.15.0)\n",
            "Requirement already satisfied: protobuf>=3.12.0 in /usr/local/lib/python3.7/dist-packages (from wandb) (3.17.3)\n",
            "Requirement already satisfied: PyYAML in /usr/local/lib/python3.7/dist-packages (from wandb) (3.13)\n",
            "Requirement already satisfied: promise<3,>=2.0 in /usr/local/lib/python3.7/dist-packages (from wandb) (2.3)\n",
            "Requirement already satisfied: psutil>=5.0.0 in /usr/local/lib/python3.7/dist-packages (from wandb) (5.4.8)\n",
            "Collecting yaspin>=1.0.0\n",
            "  Downloading yaspin-2.1.0-py3-none-any.whl (18 kB)\n",
            "Requirement already satisfied: requests<3,>=2.0.0 in /usr/local/lib/python3.7/dist-packages (from wandb) (2.23.0)\n",
            "Requirement already satisfied: typing-extensions>=3.7.4.3 in /usr/local/lib/python3.7/dist-packages (from GitPython>=1.0.0->wandb) (3.10.0.2)\n",
            "Collecting gitdb<5,>=4.0.1\n",
            "  Downloading gitdb-4.0.9-py3-none-any.whl (63 kB)\n",
            "\u001b[K     |████████████████████████████████| 63 kB 1.7 MB/s \n",
            "\u001b[?25hCollecting smmap<6,>=3.0.1\n",
            "  Downloading smmap-5.0.0-py3-none-any.whl (24 kB)\n",
            "Requirement already satisfied: certifi>=2017.4.17 in /usr/local/lib/python3.7/dist-packages (from requests<3,>=2.0.0->wandb) (2021.10.8)\n",
            "Requirement already satisfied: idna<3,>=2.5 in /usr/local/lib/python3.7/dist-packages (from requests<3,>=2.0.0->wandb) (2.10)\n",
            "Requirement already satisfied: chardet<4,>=3.0.2 in /usr/local/lib/python3.7/dist-packages (from requests<3,>=2.0.0->wandb) (3.0.4)\n",
            "Requirement already satisfied: urllib3!=1.25.0,!=1.25.1,<1.26,>=1.21.1 in /usr/local/lib/python3.7/dist-packages (from requests<3,>=2.0.0->wandb) (1.24.3)\n",
            "Requirement already satisfied: termcolor<2.0.0,>=1.1.0 in /usr/local/lib/python3.7/dist-packages (from yaspin>=1.0.0->wandb) (1.1.0)\n",
            "Building wheels for collected packages: subprocess32, pathtools\n",
            "  Building wheel for subprocess32 (setup.py) ... \u001b[?25l\u001b[?25hdone\n",
            "  Created wheel for subprocess32: filename=subprocess32-3.5.4-py3-none-any.whl size=6502 sha256=1f6fccb5bc2a10cc9a6f4b790a2f32ba40fd880e09ca7962d39aea1158f95b93\n",
            "  Stored in directory: /root/.cache/pip/wheels/50/ca/fa/8fca8d246e64f19488d07567547ddec8eb084e8c0d7a59226a\n",
            "  Building wheel for pathtools (setup.py) ... \u001b[?25l\u001b[?25hdone\n",
            "  Created wheel for pathtools: filename=pathtools-0.1.2-py3-none-any.whl size=8807 sha256=7eab7cb6c7a2befc24964912953041ec7cefc329ed50c3b8bb97cfa94c87eca6\n",
            "  Stored in directory: /root/.cache/pip/wheels/3e/31/09/fa59cef12cdcfecc627b3d24273699f390e71828921b2cbba2\n",
            "Successfully built subprocess32 pathtools\n",
            "Installing collected packages: smmap, gitdb, yaspin, subprocess32, shortuuid, sentry-sdk, pathtools, GitPython, docker-pycreds, configparser, wandb\n",
            "Successfully installed GitPython-3.1.24 configparser-5.1.0 docker-pycreds-0.4.0 gitdb-4.0.9 pathtools-0.1.2 sentry-sdk-1.5.0 shortuuid-1.0.8 smmap-5.0.0 subprocess32-3.5.4 wandb-0.12.7 yaspin-2.1.0\n",
            "Collecting onnxruntime\n",
            "  Downloading onnxruntime-1.9.0-cp37-cp37m-manylinux_2_17_x86_64.manylinux2014_x86_64.whl (4.8 MB)\n",
            "\u001b[K     |████████████████████████████████| 4.8 MB 29.1 MB/s \n",
            "\u001b[?25hRequirement already satisfied: protobuf in /usr/local/lib/python3.7/dist-packages (from onnxruntime) (3.17.3)\n",
            "Requirement already satisfied: flatbuffers in /usr/local/lib/python3.7/dist-packages (from onnxruntime) (2.0)\n",
            "Requirement already satisfied: numpy>=1.16.6 in /usr/local/lib/python3.7/dist-packages (from onnxruntime) (1.19.5)\n",
            "Requirement already satisfied: six>=1.9 in /usr/local/lib/python3.7/dist-packages (from protobuf->onnxruntime) (1.15.0)\n",
            "Installing collected packages: onnxruntime\n",
            "Successfully installed onnxruntime-1.9.0\n",
            "\u001b[K     |████████████████████████████████| 979 kB 30.0 MB/s \n",
            "\u001b[K     |████████████████████████████████| 206 kB 58.4 MB/s \n",
            "\u001b[K     |████████████████████████████████| 1.9 MB 65.3 MB/s \n",
            "\u001b[K     |████████████████████████████████| 3.6 MB 37.3 MB/s \n",
            "\u001b[K     |████████████████████████████████| 63 kB 2.4 MB/s \n",
            "\u001b[K     |████████████████████████████████| 961 kB 41.2 MB/s \n",
            "\u001b[?25h  Building wheel for ffmpy (setup.py) ... \u001b[?25l\u001b[?25hdone\n",
            "  Building wheel for flask-cachebuster (setup.py) ... \u001b[?25l\u001b[?25hdone\n"
          ]
        }
      ]
    },
    {
      "cell_type": "code",
      "metadata": {
        "id": "LHNuJwcEuP2h"
      },
      "source": [
        "from IPython.core.interactiveshell import InteractiveShell\n",
        "InteractiveShell.ast_node_interactivity = \"all\""
      ],
      "execution_count": 2,
      "outputs": []
    },
    {
      "cell_type": "code",
      "metadata": {
        "id": "PF1pMYEtd2NI"
      },
      "source": [
        "import os\n",
        "import wandb\n",
        "import pandas as pd\n",
        "import numpy as np\n",
        "import onnxruntime as rt\n",
        "from gradio import gradio as gr"
      ],
      "execution_count": 3,
      "outputs": []
    },
    {
      "cell_type": "markdown",
      "metadata": {
        "id": "gtvM2w5QeA0P"
      },
      "source": [
        "### Initialise weights and biases"
      ]
    },
    {
      "cell_type": "code",
      "metadata": {
        "id": "iurLdC4jd-M0"
      },
      "source": [
        "os.environ[\"WANDB_API_KEY\"] = \"26ff855733a63e9d999357d3e3bd1eb135cff5a5\""
      ],
      "execution_count": 4,
      "outputs": []
    },
    {
      "cell_type": "code",
      "metadata": {
        "colab": {
          "base_uri": "https://localhost:8080/",
          "height": 53
        },
        "id": "Doyab833eI3a",
        "outputId": "b7570587-30ee-4bdb-c7cd-64c286df7b3b"
      },
      "source": [
        "run = wandb.init(project='autism_screening_deploy')"
      ],
      "execution_count": 5,
      "outputs": [
        {
          "output_type": "stream",
          "name": "stderr",
          "text": [
            "\u001b[34m\u001b[1mwandb\u001b[0m: Currently logged in as: \u001b[33mthisisshax\u001b[0m (use `wandb login --relogin` to force relogin)\n"
          ]
        },
        {
          "output_type": "display_data",
          "data": {
            "text/html": [
              "\n",
              "                    Syncing run <strong><a href=\"https://wandb.ai/thisisshax/autism_screening_deploy/runs/2yby7cs7\" target=\"_blank\">tough-vortex-1</a></strong> to <a href=\"https://wandb.ai/thisisshax/autism_screening_deploy\" target=\"_blank\">Weights & Biases</a> (<a href=\"https://docs.wandb.com/integrations/jupyter.html\" target=\"_blank\">docs</a>).<br/>\n",
              "\n",
              "                "
            ],
            "text/plain": [
              "<IPython.core.display.HTML object>"
            ]
          },
          "metadata": {}
        }
      ]
    },
    {
      "cell_type": "markdown",
      "metadata": {
        "id": "wCbEjcRegCwG"
      },
      "source": [
        "### Download the model and load it"
      ]
    },
    {
      "cell_type": "code",
      "metadata": {
        "id": "BocKN_i3gHkl"
      },
      "source": [
        "ARTIFACT_NAME = 'LogReg_AutismScreening:v0'"
      ],
      "execution_count": 6,
      "outputs": []
    },
    {
      "cell_type": "code",
      "metadata": {
        "id": "KxQRGDjngXPw"
      },
      "source": [
        "artifact = run.use_artifact('maytune/autism_screening/' + ARTIFACT_NAME, type='model')\n",
        "artifact_dir = artifact.download()"
      ],
      "execution_count": 7,
      "outputs": []
    },
    {
      "cell_type": "code",
      "metadata": {
        "colab": {
          "base_uri": "https://localhost:8080/",
          "height": 35
        },
        "id": "xJ4iu1qOg-zN",
        "outputId": "f8563cd6-17ae-4f9b-978d-ae5a18b2760a"
      },
      "source": [
        "artifact_dir"
      ],
      "execution_count": 8,
      "outputs": [
        {
          "output_type": "execute_result",
          "data": {
            "application/vnd.google.colaboratory.intrinsic+json": {
              "type": "string"
            },
            "text/plain": [
              "'./artifacts/LogReg_AutismScreening:v0'"
            ]
          },
          "metadata": {},
          "execution_count": 8
        }
      ]
    },
    {
      "cell_type": "code",
      "metadata": {
        "colab": {
          "base_uri": "https://localhost:8080/"
        },
        "id": "5eFW2GcxhC1K",
        "outputId": "45c4062b-7331-4653-fbd6-a7e395f5f44b"
      },
      "source": [
        "!ls -al  artifacts/LogReg_AutismScreening:v0"
      ],
      "execution_count": 9,
      "outputs": [
        {
          "output_type": "stream",
          "name": "stdout",
          "text": [
            "total 16\n",
            "drwxr-xr-x 2 root root 4096 Nov 25 14:10 .\n",
            "drwxr-xr-x 3 root root 4096 Nov 25 14:10 ..\n",
            "-rw-r--r-- 1 root root 5380 Nov 25 14:10 autismscreening_logreg.onnx\n"
          ]
        }
      ]
    },
    {
      "cell_type": "markdown",
      "metadata": {
        "id": "2C-vmjTahNt2"
      },
      "source": [
        "### Columns"
      ]
    },
    {
      "cell_type": "code",
      "metadata": {
        "id": "wLPThZ-vhQMk"
      },
      "source": [
        "x_columns = ['A1','A2','A3','A4','A5','A6','A7','A8','A9','A10','Age_Mons','Sex','Ethnicity','Jaundice','Family_mem_with_ASD']"
      ],
      "execution_count": 10,
      "outputs": []
    },
    {
      "cell_type": "code",
      "metadata": {
        "id": "X3McDEeVhVvW"
      },
      "source": [
        "cat_features = ['A1','A2','A3','A4','A5','A6','A7','A8','A9','A10','Sex','Ethnicity','Jaundice','Family_mem_with_ASD']"
      ],
      "execution_count": 11,
      "outputs": []
    },
    {
      "cell_type": "code",
      "metadata": {
        "id": "loiYUAn3haph"
      },
      "source": [
        "num_features = list(set(x_columns) - set(cat_features))"
      ],
      "execution_count": 12,
      "outputs": []
    },
    {
      "cell_type": "markdown",
      "metadata": {
        "id": "-uVsCphAhh0_"
      },
      "source": [
        "### Implement the predict() function"
      ]
    },
    {
      "cell_type": "code",
      "metadata": {
        "id": "DOv9HIYqhmyT"
      },
      "source": [
        "def predict_autism(A1, A2, A3,\n",
        "                  A4, A5, A6, \n",
        "                  A7, A8, A9, \n",
        "                  A10, Age_Mons, Sex, Ethnicity, Jaundice, Family_mem_with_ASD ):\n",
        "\n",
        "    inputs_dict = {'A1' :np.float32(A1) , \n",
        "              'A2': np.float32(A2), \n",
        "              'A3': np.float32(A3), \n",
        "              'A4': np.float32(A4), \n",
        "              'A5': np.float32(A5), \n",
        "              'A6': np.float32(A6), \n",
        "              'A7': np.float32(A7), \n",
        "              'A8': np.float32(A8), \n",
        "              'A9': np.float32(A9), \n",
        "              'A10': np.float32(A10), \n",
        "              'Age_Mons' : float(Age_Mons),\n",
        "              'Sex': Sex, \n",
        "              'Ethnicity': Ethnicity,\n",
        "              'Jaundice': Jaundice,\n",
        "              'Family_mem_with_ASD': Family_mem_with_ASD}\n",
        "\n",
        "    df = pd.DataFrame(inputs_dict, index = [0])\n",
        "    print(df)\n",
        "\n",
        "    inputs = {c: df[c].values for c in df.columns}\n",
        "    for c in num_features:\n",
        "        inputs[c] = inputs[c].astype(np.float32)\n",
        "    for k in inputs:\n",
        "        inputs[k] = inputs[k].reshape((inputs[k].shape[0], 1))            \n",
        "  \n",
        "    sess = rt.InferenceSession(artifact_dir + '/autismscreening_logreg.onnx')\n",
        "    pred_onx = sess.run(None, inputs)\n",
        "    predicted = pred_onx[0][0]\n",
        "   # predicted = pred_onx[0][0,0]\n",
        "    \n",
        "\n",
        "   # print(pred_onx)\n",
        "  \n",
        "    return {'Autism prediction: ' + str(predicted)}"
      ],
      "execution_count": 13,
      "outputs": []
    },
    {
      "cell_type": "markdown",
      "metadata": {
        "id": "yUZFi1Vch8c3"
      },
      "source": [
        "### Implement UI"
      ]
    },
    {
      "cell_type": "code",
      "metadata": {
        "colab": {
          "base_uri": "https://localhost:8080/",
          "height": 737
        },
        "id": "MACvwbq0tjt6",
        "outputId": "4e297851-eb3f-4bd7-c87a-b6245e06683f"
      },
      "source": [
        "Age_Mons = gr.inputs.Slider(minimum=0, maximum=40, label=\"Age of infant (in months)\")\n",
        "\n",
        "A1 = gr.inputs.Radio([0, 1], default=0, label=\"Does your child look at you when you call his/her name?\")\n",
        "A2 = gr.inputs.Radio([0, 1], default=0, label=\"Is it easy for you to get eye-contact with your child?\")\n",
        "A3 = gr.inputs.Radio([0, 1], default=0, label=\"Does your child point to indicate that he/she wants something?\")\n",
        "A4 = gr.inputs.Radio([0, 1], default=0, label=\"Does your child point to share interest with you?\")\n",
        "A5 = gr.inputs.Radio([0, 1], default=0, label=\"Does your child pretend?\")\n",
        "A6 = gr.inputs.Radio([0, 1], default=0, label=\"Does your child follow where you are looking?\")\n",
        "A7 = gr.inputs.Radio([0, 1], default=0, label=\"If you or someone else in your family is visibly upset, Does your child show signs of wanting to comfort them?\")\n",
        "A8 = gr.inputs.Radio([0, 1], default=0, label=\"Does your child use simple words?\")\n",
        "A9 = gr.inputs.Radio([0, 1], default=0, label=\"Does your child use simple gestures\")\n",
        "A10 = gr.inputs.Radio([0, 1], default=0, label=\"Does your child stare at nothing with no apparent purpose?\")\n",
        "\n",
        "Sex = gr.inputs.Radio(['m', 'f'], default=\"m\", label=\"Sex\")\n",
        "Ethnicity = gr.inputs.Dropdown(['asian', 'black', 'Hispanic', 'Latino', 'middle eastern', 'mixed', 'Native Indian', 'Others', 'Pacifica', 'south asian', 'White European'], default=\"Others\", label=\"Ethnicity\")\n",
        "Jaundice = gr.inputs.Radio(['no', 'yes'], default=\"no\", label=\"Was the child born with Jaundice?\")\n",
        "Family_mem_with_ASD = gr.inputs.Radio(['no', 'yes'], default=\"no\", label=\"Does any immediate family member have ASD?\")\n",
        "\n",
        "gr.Interface(predict_autism, [A1, A2, A3,\n",
        "                  A4, A5, A6, \n",
        "                  A7, A8, A9, \n",
        "                  A10, Age_Mons, Sex, Ethnicity, Jaundice, Family_mem_with_ASD], \"text\", live=False).launch(debug=True);"
      ],
      "execution_count": null,
      "outputs": [
        {
          "output_type": "stream",
          "name": "stdout",
          "text": [
            "Colab notebook detected. This cell will run indefinitely so that you can see errors and logs. To turn off, set debug=False in launch().\n",
            "Running on public URL: https://31244.gradio.app\n",
            "\n",
            "This share link will expire in 72 hours. To get longer links, send an email to: support@gradio.app\n"
          ]
        },
        {
          "output_type": "display_data",
          "data": {
            "text/html": [
              "\n",
              "        <iframe\n",
              "            width=\"900\"\n",
              "            height=\"500\"\n",
              "            src=\"https://31244.gradio.app\"\n",
              "            frameborder=\"0\"\n",
              "            allowfullscreen\n",
              "        ></iframe>\n",
              "        "
            ],
            "text/plain": [
              "<IPython.lib.display.IFrame at 0x7fc57ebd10d0>"
            ]
          },
          "metadata": {}
        },
        {
          "output_type": "stream",
          "name": "stdout",
          "text": [
            "    A1   A2   A3   A4   A5  ...  Age_Mons  Sex  Ethnicity  Jaundice  Family_mem_with_ASD\n",
            "0  1.0  1.0  1.0  0.0  0.0  ...       2.3    m      asian        no                   no\n",
            "\n",
            "[1 rows x 15 columns]\n",
            "    A1   A2   A3   A4   A5  ...  Age_Mons  Sex  Ethnicity  Jaundice  Family_mem_with_ASD\n",
            "0  1.0  1.0  1.0  0.0  0.0  ...       2.3    m      asian        no                  yes\n",
            "\n",
            "[1 rows x 15 columns]\n"
          ]
        }
      ]
    },
    {
      "cell_type": "code",
      "metadata": {
        "id": "gSHajkrBh4Lz"
      },
      "source": [
        ""
      ],
      "execution_count": null,
      "outputs": []
    }
  ]
}