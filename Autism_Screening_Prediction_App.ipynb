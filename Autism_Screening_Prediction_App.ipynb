{
  "nbformat": 4,
  "nbformat_minor": 0,
  "metadata": {
    "colab": {
      "name": "Autism Screening_Prediction App",
      "provenance": [],
      "include_colab_link": true
    },
    "kernelspec": {
      "display_name": "Python 3",
      "name": "python3"
    },
    "language_info": {
      "name": "python"
    }
  },
  "cells": [
    {
      "cell_type": "markdown",
      "metadata": {
        "id": "view-in-github",
        "colab_type": "text"
      },
      "source": [
        "<a href=\"https://colab.research.google.com/github/thisisSHAX/ML_Ops_Project-/blob/main/Autism_Screening_Prediction_App.ipynb\" target=\"_parent\"><img src=\"https://colab.research.google.com/assets/colab-badge.svg\" alt=\"Open In Colab\"/></a>"
      ]
    },
    {
      "cell_type": "markdown",
      "metadata": {
        "id": "lMEwLUe6dt1U"
      },
      "source": [
        "### Creating a web app to deploy the model"
      ]
    },
    {
      "cell_type": "code",
      "metadata": {
        "colab": {
          "base_uri": "https://localhost:8080/"
        },
        "id": "zlBPg_DNdrmr",
        "outputId": "22b9d53b-9d88-4c8f-cb32-5c1d6831b16b"
      },
      "source": [
        "!pip install wandb\n",
        "!pip install onnxruntime\n",
        "!pip install -q gradio "
      ],
      "execution_count": null,
      "outputs": [
        {
          "output_type": "stream",
          "name": "stdout",
          "text": [
            "Collecting wandb\n",
            "  Downloading wandb-0.12.7-py2.py3-none-any.whl (1.7 MB)\n",
            "\u001b[?25l\r\u001b[K     |▏                               | 10 kB 23.4 MB/s eta 0:00:01\r\u001b[K     |▍                               | 20 kB 29.0 MB/s eta 0:00:01\r\u001b[K     |▋                               | 30 kB 34.1 MB/s eta 0:00:01\r\u001b[K     |▊                               | 40 kB 19.2 MB/s eta 0:00:01\r\u001b[K     |█                               | 51 kB 5.4 MB/s eta 0:00:01\r\u001b[K     |█▏                              | 61 kB 5.4 MB/s eta 0:00:01\r\u001b[K     |█▍                              | 71 kB 5.7 MB/s eta 0:00:01\r\u001b[K     |█▌                              | 81 kB 6.4 MB/s eta 0:00:01\r\u001b[K     |█▊                              | 92 kB 6.9 MB/s eta 0:00:01\r\u001b[K     |██                              | 102 kB 5.2 MB/s eta 0:00:01\r\u001b[K     |██▏                             | 112 kB 5.2 MB/s eta 0:00:01\r\u001b[K     |██▎                             | 122 kB 5.2 MB/s eta 0:00:01\r\u001b[K     |██▌                             | 133 kB 5.2 MB/s eta 0:00:01\r\u001b[K     |██▊                             | 143 kB 5.2 MB/s eta 0:00:01\r\u001b[K     |███                             | 153 kB 5.2 MB/s eta 0:00:01\r\u001b[K     |███                             | 163 kB 5.2 MB/s eta 0:00:01\r\u001b[K     |███▎                            | 174 kB 5.2 MB/s eta 0:00:01\r\u001b[K     |███▌                            | 184 kB 5.2 MB/s eta 0:00:01\r\u001b[K     |███▊                            | 194 kB 5.2 MB/s eta 0:00:01\r\u001b[K     |███▉                            | 204 kB 5.2 MB/s eta 0:00:01\r\u001b[K     |████                            | 215 kB 5.2 MB/s eta 0:00:01\r\u001b[K     |████▎                           | 225 kB 5.2 MB/s eta 0:00:01\r\u001b[K     |████▌                           | 235 kB 5.2 MB/s eta 0:00:01\r\u001b[K     |████▋                           | 245 kB 5.2 MB/s eta 0:00:01\r\u001b[K     |████▉                           | 256 kB 5.2 MB/s eta 0:00:01\r\u001b[K     |█████                           | 266 kB 5.2 MB/s eta 0:00:01\r\u001b[K     |█████▎                          | 276 kB 5.2 MB/s eta 0:00:01\r\u001b[K     |█████▍                          | 286 kB 5.2 MB/s eta 0:00:01\r\u001b[K     |█████▋                          | 296 kB 5.2 MB/s eta 0:00:01\r\u001b[K     |█████▉                          | 307 kB 5.2 MB/s eta 0:00:01\r\u001b[K     |██████                          | 317 kB 5.2 MB/s eta 0:00:01\r\u001b[K     |██████▏                         | 327 kB 5.2 MB/s eta 0:00:01\r\u001b[K     |██████▍                         | 337 kB 5.2 MB/s eta 0:00:01\r\u001b[K     |██████▋                         | 348 kB 5.2 MB/s eta 0:00:01\r\u001b[K     |██████▉                         | 358 kB 5.2 MB/s eta 0:00:01\r\u001b[K     |███████                         | 368 kB 5.2 MB/s eta 0:00:01\r\u001b[K     |███████▏                        | 378 kB 5.2 MB/s eta 0:00:01\r\u001b[K     |███████▍                        | 389 kB 5.2 MB/s eta 0:00:01\r\u001b[K     |███████▋                        | 399 kB 5.2 MB/s eta 0:00:01\r\u001b[K     |███████▊                        | 409 kB 5.2 MB/s eta 0:00:01\r\u001b[K     |████████                        | 419 kB 5.2 MB/s eta 0:00:01\r\u001b[K     |████████▏                       | 430 kB 5.2 MB/s eta 0:00:01\r\u001b[K     |████████▍                       | 440 kB 5.2 MB/s eta 0:00:01\r\u001b[K     |████████▌                       | 450 kB 5.2 MB/s eta 0:00:01\r\u001b[K     |████████▊                       | 460 kB 5.2 MB/s eta 0:00:01\r\u001b[K     |█████████                       | 471 kB 5.2 MB/s eta 0:00:01\r\u001b[K     |█████████                       | 481 kB 5.2 MB/s eta 0:00:01\r\u001b[K     |█████████▎                      | 491 kB 5.2 MB/s eta 0:00:01\r\u001b[K     |█████████▌                      | 501 kB 5.2 MB/s eta 0:00:01\r\u001b[K     |█████████▊                      | 512 kB 5.2 MB/s eta 0:00:01\r\u001b[K     |█████████▉                      | 522 kB 5.2 MB/s eta 0:00:01\r\u001b[K     |██████████                      | 532 kB 5.2 MB/s eta 0:00:01\r\u001b[K     |██████████▎                     | 542 kB 5.2 MB/s eta 0:00:01\r\u001b[K     |██████████▌                     | 552 kB 5.2 MB/s eta 0:00:01\r\u001b[K     |██████████▋                     | 563 kB 5.2 MB/s eta 0:00:01\r\u001b[K     |██████████▉                     | 573 kB 5.2 MB/s eta 0:00:01\r\u001b[K     |███████████                     | 583 kB 5.2 MB/s eta 0:00:01\r\u001b[K     |███████████▎                    | 593 kB 5.2 MB/s eta 0:00:01\r\u001b[K     |███████████▍                    | 604 kB 5.2 MB/s eta 0:00:01\r\u001b[K     |███████████▋                    | 614 kB 5.2 MB/s eta 0:00:01\r\u001b[K     |███████████▉                    | 624 kB 5.2 MB/s eta 0:00:01\r\u001b[K     |████████████                    | 634 kB 5.2 MB/s eta 0:00:01\r\u001b[K     |████████████▏                   | 645 kB 5.2 MB/s eta 0:00:01\r\u001b[K     |████████████▍                   | 655 kB 5.2 MB/s eta 0:00:01\r\u001b[K     |████████████▋                   | 665 kB 5.2 MB/s eta 0:00:01\r\u001b[K     |████████████▉                   | 675 kB 5.2 MB/s eta 0:00:01\r\u001b[K     |█████████████                   | 686 kB 5.2 MB/s eta 0:00:01\r\u001b[K     |█████████████▏                  | 696 kB 5.2 MB/s eta 0:00:01\r\u001b[K     |█████████████▍                  | 706 kB 5.2 MB/s eta 0:00:01\r\u001b[K     |█████████████▋                  | 716 kB 5.2 MB/s eta 0:00:01\r\u001b[K     |█████████████▊                  | 727 kB 5.2 MB/s eta 0:00:01\r\u001b[K     |██████████████                  | 737 kB 5.2 MB/s eta 0:00:01\r\u001b[K     |██████████████▏                 | 747 kB 5.2 MB/s eta 0:00:01\r\u001b[K     |██████████████▍                 | 757 kB 5.2 MB/s eta 0:00:01\r\u001b[K     |██████████████▌                 | 768 kB 5.2 MB/s eta 0:00:01\r\u001b[K     |██████████████▊                 | 778 kB 5.2 MB/s eta 0:00:01\r\u001b[K     |███████████████                 | 788 kB 5.2 MB/s eta 0:00:01\r\u001b[K     |███████████████▏                | 798 kB 5.2 MB/s eta 0:00:01\r\u001b[K     |███████████████▎                | 808 kB 5.2 MB/s eta 0:00:01\r\u001b[K     |███████████████▌                | 819 kB 5.2 MB/s eta 0:00:01\r\u001b[K     |███████████████▊                | 829 kB 5.2 MB/s eta 0:00:01\r\u001b[K     |████████████████                | 839 kB 5.2 MB/s eta 0:00:01\r\u001b[K     |████████████████                | 849 kB 5.2 MB/s eta 0:00:01\r\u001b[K     |████████████████▎               | 860 kB 5.2 MB/s eta 0:00:01\r\u001b[K     |████████████████▌               | 870 kB 5.2 MB/s eta 0:00:01\r\u001b[K     |████████████████▊               | 880 kB 5.2 MB/s eta 0:00:01\r\u001b[K     |████████████████▉               | 890 kB 5.2 MB/s eta 0:00:01\r\u001b[K     |█████████████████               | 901 kB 5.2 MB/s eta 0:00:01\r\u001b[K     |█████████████████▎              | 911 kB 5.2 MB/s eta 0:00:01\r\u001b[K     |█████████████████▍              | 921 kB 5.2 MB/s eta 0:00:01\r\u001b[K     |█████████████████▋              | 931 kB 5.2 MB/s eta 0:00:01\r\u001b[K     |█████████████████▉              | 942 kB 5.2 MB/s eta 0:00:01\r\u001b[K     |██████████████████              | 952 kB 5.2 MB/s eta 0:00:01\r\u001b[K     |██████████████████▏             | 962 kB 5.2 MB/s eta 0:00:01\r\u001b[K     |██████████████████▍             | 972 kB 5.2 MB/s eta 0:00:01\r\u001b[K     |██████████████████▋             | 983 kB 5.2 MB/s eta 0:00:01\r\u001b[K     |██████████████████▉             | 993 kB 5.2 MB/s eta 0:00:01\r\u001b[K     |███████████████████             | 1.0 MB 5.2 MB/s eta 0:00:01\r\u001b[K     |███████████████████▏            | 1.0 MB 5.2 MB/s eta 0:00:01\r\u001b[K     |███████████████████▍            | 1.0 MB 5.2 MB/s eta 0:00:01\r\u001b[K     |███████████████████▋            | 1.0 MB 5.2 MB/s eta 0:00:01\r\u001b[K     |███████████████████▊            | 1.0 MB 5.2 MB/s eta 0:00:01\r\u001b[K     |████████████████████            | 1.1 MB 5.2 MB/s eta 0:00:01\r\u001b[K     |████████████████████▏           | 1.1 MB 5.2 MB/s eta 0:00:01\r\u001b[K     |████████████████████▍           | 1.1 MB 5.2 MB/s eta 0:00:01\r\u001b[K     |████████████████████▌           | 1.1 MB 5.2 MB/s eta 0:00:01\r\u001b[K     |████████████████████▊           | 1.1 MB 5.2 MB/s eta 0:00:01\r\u001b[K     |█████████████████████           | 1.1 MB 5.2 MB/s eta 0:00:01\r\u001b[K     |█████████████████████▏          | 1.1 MB 5.2 MB/s eta 0:00:01\r\u001b[K     |█████████████████████▎          | 1.1 MB 5.2 MB/s eta 0:00:01\r\u001b[K     |█████████████████████▌          | 1.1 MB 5.2 MB/s eta 0:00:01\r\u001b[K     |█████████████████████▊          | 1.1 MB 5.2 MB/s eta 0:00:01\r\u001b[K     |██████████████████████          | 1.2 MB 5.2 MB/s eta 0:00:01\r\u001b[K     |██████████████████████          | 1.2 MB 5.2 MB/s eta 0:00:01\r\u001b[K     |██████████████████████▎         | 1.2 MB 5.2 MB/s eta 0:00:01\r\u001b[K     |██████████████████████▌         | 1.2 MB 5.2 MB/s eta 0:00:01\r\u001b[K     |██████████████████████▊         | 1.2 MB 5.2 MB/s eta 0:00:01\r\u001b[K     |██████████████████████▉         | 1.2 MB 5.2 MB/s eta 0:00:01\r\u001b[K     |███████████████████████         | 1.2 MB 5.2 MB/s eta 0:00:01\r\u001b[K     |███████████████████████▎        | 1.2 MB 5.2 MB/s eta 0:00:01\r\u001b[K     |███████████████████████▌        | 1.2 MB 5.2 MB/s eta 0:00:01\r\u001b[K     |███████████████████████▋        | 1.2 MB 5.2 MB/s eta 0:00:01\r\u001b[K     |███████████████████████▉        | 1.3 MB 5.2 MB/s eta 0:00:01\r\u001b[K     |████████████████████████        | 1.3 MB 5.2 MB/s eta 0:00:01\r\u001b[K     |████████████████████████▎       | 1.3 MB 5.2 MB/s eta 0:00:01\r\u001b[K     |████████████████████████▍       | 1.3 MB 5.2 MB/s eta 0:00:01\r\u001b[K     |████████████████████████▋       | 1.3 MB 5.2 MB/s eta 0:00:01\r\u001b[K     |████████████████████████▉       | 1.3 MB 5.2 MB/s eta 0:00:01\r\u001b[K     |█████████████████████████       | 1.3 MB 5.2 MB/s eta 0:00:01\r\u001b[K     |█████████████████████████▏      | 1.3 MB 5.2 MB/s eta 0:00:01\r\u001b[K     |█████████████████████████▍      | 1.3 MB 5.2 MB/s eta 0:00:01\r\u001b[K     |█████████████████████████▋      | 1.4 MB 5.2 MB/s eta 0:00:01\r\u001b[K     |█████████████████████████▊      | 1.4 MB 5.2 MB/s eta 0:00:01\r\u001b[K     |██████████████████████████      | 1.4 MB 5.2 MB/s eta 0:00:01\r\u001b[K     |██████████████████████████▏     | 1.4 MB 5.2 MB/s eta 0:00:01\r\u001b[K     |██████████████████████████▍     | 1.4 MB 5.2 MB/s eta 0:00:01\r\u001b[K     |██████████████████████████▌     | 1.4 MB 5.2 MB/s eta 0:00:01\r\u001b[K     |██████████████████████████▊     | 1.4 MB 5.2 MB/s eta 0:00:01\r\u001b[K     |███████████████████████████     | 1.4 MB 5.2 MB/s eta 0:00:01\r\u001b[K     |███████████████████████████▏    | 1.4 MB 5.2 MB/s eta 0:00:01\r\u001b[K     |███████████████████████████▎    | 1.4 MB 5.2 MB/s eta 0:00:01\r\u001b[K     |███████████████████████████▌    | 1.5 MB 5.2 MB/s eta 0:00:01\r\u001b[K     |███████████████████████████▊    | 1.5 MB 5.2 MB/s eta 0:00:01\r\u001b[K     |████████████████████████████    | 1.5 MB 5.2 MB/s eta 0:00:01\r\u001b[K     |████████████████████████████    | 1.5 MB 5.2 MB/s eta 0:00:01\r\u001b[K     |████████████████████████████▎   | 1.5 MB 5.2 MB/s eta 0:00:01\r\u001b[K     |████████████████████████████▌   | 1.5 MB 5.2 MB/s eta 0:00:01\r\u001b[K     |████████████████████████████▊   | 1.5 MB 5.2 MB/s eta 0:00:01\r\u001b[K     |████████████████████████████▉   | 1.5 MB 5.2 MB/s eta 0:00:01\r\u001b[K     |█████████████████████████████   | 1.5 MB 5.2 MB/s eta 0:00:01\r\u001b[K     |█████████████████████████████▎  | 1.5 MB 5.2 MB/s eta 0:00:01\r\u001b[K     |█████████████████████████████▌  | 1.6 MB 5.2 MB/s eta 0:00:01\r\u001b[K     |█████████████████████████████▋  | 1.6 MB 5.2 MB/s eta 0:00:01\r\u001b[K     |█████████████████████████████▉  | 1.6 MB 5.2 MB/s eta 0:00:01\r\u001b[K     |██████████████████████████████  | 1.6 MB 5.2 MB/s eta 0:00:01\r\u001b[K     |██████████████████████████████▎ | 1.6 MB 5.2 MB/s eta 0:00:01\r\u001b[K     |██████████████████████████████▍ | 1.6 MB 5.2 MB/s eta 0:00:01\r\u001b[K     |██████████████████████████████▋ | 1.6 MB 5.2 MB/s eta 0:00:01\r\u001b[K     |██████████████████████████████▉ | 1.6 MB 5.2 MB/s eta 0:00:01\r\u001b[K     |███████████████████████████████ | 1.6 MB 5.2 MB/s eta 0:00:01\r\u001b[K     |███████████████████████████████▏| 1.6 MB 5.2 MB/s eta 0:00:01\r\u001b[K     |███████████████████████████████▍| 1.7 MB 5.2 MB/s eta 0:00:01\r\u001b[K     |███████████████████████████████▋| 1.7 MB 5.2 MB/s eta 0:00:01\r\u001b[K     |███████████████████████████████▉| 1.7 MB 5.2 MB/s eta 0:00:01\r\u001b[K     |████████████████████████████████| 1.7 MB 5.2 MB/s eta 0:00:01\r\u001b[K     |████████████████████████████████| 1.7 MB 5.2 MB/s \n",
            "\u001b[?25hRequirement already satisfied: psutil>=5.0.0 in /usr/local/lib/python3.7/dist-packages (from wandb) (5.4.8)\n",
            "Requirement already satisfied: PyYAML in /usr/local/lib/python3.7/dist-packages (from wandb) (3.13)\n",
            "Collecting pathtools\n",
            "  Downloading pathtools-0.1.2.tar.gz (11 kB)\n",
            "Requirement already satisfied: requests<3,>=2.0.0 in /usr/local/lib/python3.7/dist-packages (from wandb) (2.23.0)\n",
            "Collecting GitPython>=1.0.0\n",
            "  Downloading GitPython-3.1.24-py3-none-any.whl (180 kB)\n",
            "\u001b[K     |████████████████████████████████| 180 kB 53.2 MB/s \n",
            "\u001b[?25hCollecting shortuuid>=0.5.0\n",
            "  Downloading shortuuid-1.0.8-py3-none-any.whl (9.5 kB)\n",
            "Requirement already satisfied: six>=1.13.0 in /usr/local/lib/python3.7/dist-packages (from wandb) (1.15.0)\n",
            "Collecting sentry-sdk>=1.0.0\n",
            "  Downloading sentry_sdk-1.5.0-py2.py3-none-any.whl (140 kB)\n",
            "\u001b[K     |████████████████████████████████| 140 kB 60.9 MB/s \n",
            "\u001b[?25hRequirement already satisfied: python-dateutil>=2.6.1 in /usr/local/lib/python3.7/dist-packages (from wandb) (2.8.2)\n",
            "Collecting docker-pycreds>=0.4.0\n",
            "  Downloading docker_pycreds-0.4.0-py2.py3-none-any.whl (9.0 kB)\n",
            "Collecting configparser>=3.8.1\n",
            "  Downloading configparser-5.1.0-py3-none-any.whl (19 kB)\n",
            "Requirement already satisfied: protobuf>=3.12.0 in /usr/local/lib/python3.7/dist-packages (from wandb) (3.17.3)\n",
            "Collecting subprocess32>=3.5.3\n",
            "  Downloading subprocess32-3.5.4.tar.gz (97 kB)\n",
            "\u001b[K     |████████████████████████████████| 97 kB 6.5 MB/s \n",
            "\u001b[?25hRequirement already satisfied: Click!=8.0.0,>=7.0 in /usr/local/lib/python3.7/dist-packages (from wandb) (7.1.2)\n",
            "Requirement already satisfied: promise<3,>=2.0 in /usr/local/lib/python3.7/dist-packages (from wandb) (2.3)\n",
            "Collecting yaspin>=1.0.0\n",
            "  Downloading yaspin-2.1.0-py3-none-any.whl (18 kB)\n",
            "Requirement already satisfied: typing-extensions>=3.7.4.3 in /usr/local/lib/python3.7/dist-packages (from GitPython>=1.0.0->wandb) (3.10.0.2)\n",
            "Collecting gitdb<5,>=4.0.1\n",
            "  Downloading gitdb-4.0.9-py3-none-any.whl (63 kB)\n",
            "\u001b[K     |████████████████████████████████| 63 kB 1.8 MB/s \n",
            "\u001b[?25hCollecting smmap<6,>=3.0.1\n",
            "  Downloading smmap-5.0.0-py3-none-any.whl (24 kB)\n",
            "Requirement already satisfied: chardet<4,>=3.0.2 in /usr/local/lib/python3.7/dist-packages (from requests<3,>=2.0.0->wandb) (3.0.4)\n",
            "Requirement already satisfied: idna<3,>=2.5 in /usr/local/lib/python3.7/dist-packages (from requests<3,>=2.0.0->wandb) (2.10)\n",
            "Requirement already satisfied: certifi>=2017.4.17 in /usr/local/lib/python3.7/dist-packages (from requests<3,>=2.0.0->wandb) (2021.10.8)\n",
            "Requirement already satisfied: urllib3!=1.25.0,!=1.25.1,<1.26,>=1.21.1 in /usr/local/lib/python3.7/dist-packages (from requests<3,>=2.0.0->wandb) (1.24.3)\n",
            "Requirement already satisfied: termcolor<2.0.0,>=1.1.0 in /usr/local/lib/python3.7/dist-packages (from yaspin>=1.0.0->wandb) (1.1.0)\n",
            "Building wheels for collected packages: subprocess32, pathtools\n",
            "  Building wheel for subprocess32 (setup.py) ... \u001b[?25l\u001b[?25hdone\n",
            "  Created wheel for subprocess32: filename=subprocess32-3.5.4-py3-none-any.whl size=6502 sha256=467b053c1bf6276c925e95e579fb84d3f0143feef964edb74d44050040a7952a\n",
            "  Stored in directory: /root/.cache/pip/wheels/50/ca/fa/8fca8d246e64f19488d07567547ddec8eb084e8c0d7a59226a\n",
            "  Building wheel for pathtools (setup.py) ... \u001b[?25l\u001b[?25hdone\n",
            "  Created wheel for pathtools: filename=pathtools-0.1.2-py3-none-any.whl size=8807 sha256=b9c3ff68648f11e66ed2784f49888b9d65bf02612f7f422e5c63fc8ece30402d\n",
            "  Stored in directory: /root/.cache/pip/wheels/3e/31/09/fa59cef12cdcfecc627b3d24273699f390e71828921b2cbba2\n",
            "Successfully built subprocess32 pathtools\n",
            "Installing collected packages: smmap, gitdb, yaspin, subprocess32, shortuuid, sentry-sdk, pathtools, GitPython, docker-pycreds, configparser, wandb\n",
            "Successfully installed GitPython-3.1.24 configparser-5.1.0 docker-pycreds-0.4.0 gitdb-4.0.9 pathtools-0.1.2 sentry-sdk-1.5.0 shortuuid-1.0.8 smmap-5.0.0 subprocess32-3.5.4 wandb-0.12.7 yaspin-2.1.0\n",
            "Collecting onnxruntime\n",
            "  Downloading onnxruntime-1.9.0-cp37-cp37m-manylinux_2_17_x86_64.manylinux2014_x86_64.whl (4.8 MB)\n",
            "\u001b[K     |████████████████████████████████| 4.8 MB 5.5 MB/s \n",
            "\u001b[?25hRequirement already satisfied: protobuf in /usr/local/lib/python3.7/dist-packages (from onnxruntime) (3.17.3)\n",
            "Requirement already satisfied: numpy>=1.16.6 in /usr/local/lib/python3.7/dist-packages (from onnxruntime) (1.19.5)\n",
            "Requirement already satisfied: flatbuffers in /usr/local/lib/python3.7/dist-packages (from onnxruntime) (2.0)\n",
            "Requirement already satisfied: six>=1.9 in /usr/local/lib/python3.7/dist-packages (from protobuf->onnxruntime) (1.15.0)\n",
            "Installing collected packages: onnxruntime\n",
            "Successfully installed onnxruntime-1.9.0\n",
            "\u001b[K     |████████████████████████████████| 979 kB 5.2 MB/s \n",
            "\u001b[K     |████████████████████████████████| 1.9 MB 36.9 MB/s \n",
            "\u001b[K     |████████████████████████████████| 206 kB 59.9 MB/s \n",
            "\u001b[K     |████████████████████████████████| 3.6 MB 36.9 MB/s \n",
            "\u001b[K     |████████████████████████████████| 961 kB 23.0 MB/s \n",
            "\u001b[K     |████████████████████████████████| 63 kB 2.4 MB/s \n",
            "\u001b[?25h  Building wheel for ffmpy (setup.py) ... \u001b[?25l\u001b[?25hdone\n",
            "  Building wheel for flask-cachebuster (setup.py) ... \u001b[?25l\u001b[?25hdone\n"
          ]
        }
      ]
    },
    {
      "cell_type": "code",
      "metadata": {
        "id": "LHNuJwcEuP2h"
      },
      "source": [
        "from IPython.core.interactiveshell import InteractiveShell\n",
        "InteractiveShell.ast_node_interactivity = \"all\""
      ],
      "execution_count": null,
      "outputs": []
    },
    {
      "cell_type": "code",
      "metadata": {
        "id": "PF1pMYEtd2NI"
      },
      "source": [
        "import os\n",
        "import wandb\n",
        "import pandas as pd\n",
        "import numpy as np\n",
        "import onnxruntime as rt\n",
        "from gradio import gradio as gr"
      ],
      "execution_count": null,
      "outputs": []
    },
    {
      "cell_type": "markdown",
      "metadata": {
        "id": "gtvM2w5QeA0P"
      },
      "source": [
        "### Initialise weights and biases"
      ]
    },
    {
      "cell_type": "code",
      "metadata": {
        "id": "iurLdC4jd-M0"
      },
      "source": [
        "os.environ[\"WANDB_API_KEY\"] = \"3ee9089935c4340e01c38077092a69fb10a6f6ac\""
      ],
      "execution_count": null,
      "outputs": []
    },
    {
      "cell_type": "code",
      "metadata": {
        "colab": {
          "base_uri": "https://localhost:8080/",
          "height": 52
        },
        "id": "Doyab833eI3a",
        "outputId": "59d84d7d-4957-4b77-de1d-b8d10350236d"
      },
      "source": [
        "run = wandb.init(project='autism_screening')"
      ],
      "execution_count": null,
      "outputs": [
        {
          "output_type": "stream",
          "name": "stderr",
          "text": [
            "\u001b[34m\u001b[1mwandb\u001b[0m: Currently logged in as: \u001b[33mmaytune\u001b[0m (use `wandb login --relogin` to force relogin)\n"
          ]
        },
        {
          "output_type": "display_data",
          "data": {
            "text/html": [
              "\n",
              "                    Syncing run <strong><a href=\"https://wandb.ai/maytune/autism_screening/runs/35ucbv7s\" target=\"_blank\">cool-spaceship-21</a></strong> to <a href=\"https://wandb.ai/maytune/autism_screening\" target=\"_blank\">Weights & Biases</a> (<a href=\"https://docs.wandb.com/integrations/jupyter.html\" target=\"_blank\">docs</a>).<br/>\n",
              "\n",
              "                "
            ],
            "text/plain": [
              "<IPython.core.display.HTML object>"
            ]
          },
          "metadata": {}
        }
      ]
    },
    {
      "cell_type": "markdown",
      "metadata": {
        "id": "wCbEjcRegCwG"
      },
      "source": [
        "### Download the model and load it"
      ]
    },
    {
      "cell_type": "code",
      "metadata": {
        "id": "BocKN_i3gHkl"
      },
      "source": [
        "ARTIFACT_NAME = 'LogReg_AutismScreening:v0'"
      ],
      "execution_count": null,
      "outputs": []
    },
    {
      "cell_type": "code",
      "metadata": {
        "id": "KxQRGDjngXPw"
      },
      "source": [
        "artifact = run.use_artifact('maytune/autism_screening/' + ARTIFACT_NAME, type='model')\n",
        "artifact_dir = artifact.download()"
      ],
      "execution_count": null,
      "outputs": []
    },
    {
      "cell_type": "code",
      "metadata": {
        "colab": {
          "base_uri": "https://localhost:8080/",
          "height": 35
        },
        "id": "xJ4iu1qOg-zN",
        "outputId": "97f4b352-20b1-421d-ca49-fad27d865ddd"
      },
      "source": [
        "artifact_dir"
      ],
      "execution_count": null,
      "outputs": [
        {
          "output_type": "execute_result",
          "data": {
            "application/vnd.google.colaboratory.intrinsic+json": {
              "type": "string"
            },
            "text/plain": [
              "'./artifacts/LogReg_AutismScreening:v0'"
            ]
          },
          "metadata": {},
          "execution_count": 8
        }
      ]
    },
    {
      "cell_type": "code",
      "metadata": {
        "colab": {
          "base_uri": "https://localhost:8080/"
        },
        "id": "5eFW2GcxhC1K",
        "outputId": "6db788b6-b8c5-4c99-f08c-5a2b1992e07f"
      },
      "source": [
        "!ls -al  artifacts/LogReg_AutismScreening:v0"
      ],
      "execution_count": null,
      "outputs": [
        {
          "output_type": "stream",
          "name": "stdout",
          "text": [
            "total 16\n",
            "drwxr-xr-x 2 root root 4096 Nov 26 17:32 .\n",
            "drwxr-xr-x 3 root root 4096 Nov 26 17:32 ..\n",
            "-rw-r--r-- 1 root root 5380 Nov 26 17:32 autismscreening_logreg.onnx\n"
          ]
        }
      ]
    },
    {
      "cell_type": "markdown",
      "metadata": {
        "id": "2C-vmjTahNt2"
      },
      "source": [
        "### Columns"
      ]
    },
    {
      "cell_type": "code",
      "metadata": {
        "id": "wLPThZ-vhQMk"
      },
      "source": [
        "x_columns = ['A1','A2','A3','A4','A5','A6','A7','A8','A9','A10','Age_Mons','Sex','Ethnicity','Jaundice','Family_mem_with_ASD']"
      ],
      "execution_count": null,
      "outputs": []
    },
    {
      "cell_type": "code",
      "metadata": {
        "id": "X3McDEeVhVvW"
      },
      "source": [
        "cat_features = ['A1','A2','A3','A4','A5','A6','A7','A8','A9','A10','Sex','Ethnicity','Jaundice','Family_mem_with_ASD']"
      ],
      "execution_count": null,
      "outputs": []
    },
    {
      "cell_type": "code",
      "metadata": {
        "id": "loiYUAn3haph"
      },
      "source": [
        "num_features = list(set(x_columns) - set(cat_features))"
      ],
      "execution_count": null,
      "outputs": []
    },
    {
      "cell_type": "markdown",
      "metadata": {
        "id": "-uVsCphAhh0_"
      },
      "source": [
        "### Implement the predict() function"
      ]
    },
    {
      "cell_type": "code",
      "metadata": {
        "id": "DOv9HIYqhmyT"
      },
      "source": [
        "def predict_autism(A1, A2, A3,\n",
        "                  A4, A5, A6, \n",
        "                  A7, A8, A9, \n",
        "                  A10, Age_Mons, Sex, Ethnicity, Jaundice, Family_mem_with_ASD ):\n",
        "    if(A1==\"Always\" or A1==\"Usually\"):\n",
        "      A1_num = 0\n",
        "    else:\n",
        "      A1_num = 1\n",
        "    if(A2==\"Always\" or A2==\"Usually\"):\n",
        "      A2_num = 0\n",
        "    else:\n",
        "      A2_num = 1\n",
        "    if(A3==\"Always\" or A3==\"Usually\"):\n",
        "      A3_num = 0\n",
        "    else:\n",
        "      A3_num = 1\n",
        "    if(A4==\"Always\" or A4==\"Usually\"):\n",
        "      A4_num = 0\n",
        "    else:\n",
        "      A4_num = 1\n",
        "    if(A5==\"Always\" or A5==\"Usually\"):\n",
        "      A5_num = 0\n",
        "    else:\n",
        "      A5_num = 1\n",
        "    if(A6==\"Always\" or A6==\"Usually\"):\n",
        "      A6_num = 0\n",
        "    else:\n",
        "      A6_num = 1\n",
        "    if(A7==\"Always\" or A7==\"Usually\"):\n",
        "      A7_num = 0\n",
        "    else:\n",
        "      A7_num = 1\n",
        "    if(A8==\"Always\" or A8==\"Usually\"):\n",
        "      A8_num = 0\n",
        "    else:\n",
        "      A8_num = 1\n",
        "    if(A9==\"Always\" or A9==\"Usually\"):\n",
        "      A9_num = 0\n",
        "    else:\n",
        "      A9_num = 1\n",
        "    if(A10==\"Always\" or A10==\"Usually\" or A10==\"Sometimes\"):\n",
        "      A10_num = 1\n",
        "    else:\n",
        "      A10_num = 0\n",
        "    inputs_dict = {'A1' :np.float32(A1_num) , \n",
        "              'A2': np.float32(A2_num), \n",
        "              'A3': np.float32(A3_num), \n",
        "              'A4': np.float32(A4_num), \n",
        "              'A5': np.float32(A5_num), \n",
        "              'A6': np.float32(A6_num), \n",
        "              'A7': np.float32(A7_num), \n",
        "              'A8': np.float32(A8_num), \n",
        "              'A9': np.float32(A9_num), \n",
        "              'A10': np.float32(A10_num), \n",
        "              'Age_Mons' : float(Age_Mons),\n",
        "              'Sex': Sex, \n",
        "              'Ethnicity': Ethnicity,\n",
        "              'Jaundice': Jaundice,\n",
        "              'Family_mem_with_ASD': Family_mem_with_ASD}\n",
        "\n",
        "    df = pd.DataFrame(inputs_dict, index = [0])\n",
        "    print(df)\n",
        "\n",
        "    inputs = {c: df[c].values for c in df.columns}\n",
        "    for c in num_features:\n",
        "        inputs[c] = inputs[c].astype(np.float32)\n",
        "    for k in inputs:\n",
        "        inputs[k] = inputs[k].reshape((inputs[k].shape[0], 1))            \n",
        "  \n",
        "    sess = rt.InferenceSession(artifact_dir + '/autismscreening_logreg.onnx')\n",
        "    pred_onx = sess.run(None, inputs)\n",
        "    predicted = pred_onx[0][0]\n",
        "    if(predicted == 0):\n",
        "      resultstr = \"Child may not have autism\"\n",
        "    else:\n",
        "      resultstr = \"Child may have autism\"  \n",
        "    return 'Autism prediction: ' + resultstr"
      ],
      "execution_count": null,
      "outputs": []
    },
    {
      "cell_type": "markdown",
      "metadata": {
        "id": "yUZFi1Vch8c3"
      },
      "source": [
        "### Implement UI"
      ]
    },
    {
      "cell_type": "code",
      "metadata": {
        "colab": {
          "base_uri": "https://localhost:8080/",
          "height": 730
        },
        "id": "MACvwbq0tjt6",
        "outputId": "f8b4c3f6-2689-4828-d088-5195d440ac50"
      },
      "source": [
        "Age_Mons = gr.inputs.Slider(minimum=0, maximum=36, label=\"Age of infant (in months)\")\n",
        "\n",
        "A1 = gr.inputs.Radio([\"Always\", \"Usually\", \"Sometimes\", \"Rarely\", \"Never\"], default=\"Always\", label=\"Does your child look at you when you call his/her name?\")\n",
        "A2 = gr.inputs.Radio([\"Always\", \"Usually\", \"Sometimes\", \"Rarely\", \"Never\"], default=\"Always\", label=\"Is it easy for you to get eye-contact with your child?\")\n",
        "A3 = gr.inputs.Radio([\"Always\", \"Usually\", \"Sometimes\", \"Rarely\", \"Never\"], default=\"Always\", label=\"Does your child point to indicate that he/she wants something?\")\n",
        "A4 = gr.inputs.Radio([\"Always\", \"Usually\", \"Sometimes\", \"Rarely\", \"Never\"], default=\"Always\", label=\"Does your child point to share interest with you?\")\n",
        "A5 = gr.inputs.Radio([\"Always\", \"Usually\", \"Sometimes\", \"Rarely\", \"Never\"], default=\"Always\", label=\"Does your child pretend?\")\n",
        "A6 = gr.inputs.Radio([\"Always\", \"Usually\", \"Sometimes\", \"Rarely\", \"Never\"], default=\"Always\", label=\"Does your child follow where you are looking?\")\n",
        "A7 = gr.inputs.Radio([\"Always\", \"Usually\", \"Sometimes\", \"Rarely\", \"Never\"], default=\"Always\", label=\"If you or someone else in your family is visibly upset, Does your child show signs of wanting to comfort them?\")\n",
        "A8 = gr.inputs.Radio([\"Always\", \"Usually\", \"Sometimes\", \"Rarely\", \"Never\"], default=\"Always\", label=\"Does your child use simple words?\")\n",
        "A9 = gr.inputs.Radio([\"Always\", \"Usually\", \"Sometimes\", \"Rarely\", \"Never\"], default=\"Always\", label=\"Does your child use simple gestures\")\n",
        "A10 = gr.inputs.Radio([\"Always\", \"Usually\", \"Sometimes\", \"Rarely\", \"Never\"], default=\"Never\", label=\"Does your child stare at nothing with no apparent purpose?\")\n",
        "\n",
        "Sex = gr.inputs.Radio(['m', 'f'], default=\"m\", label=\"Sex\")\n",
        "Ethnicity = gr.inputs.Dropdown(['asian', 'black', 'Hispanic', 'Latino', 'middle eastern', 'mixed', 'Native Indian', 'Others', 'Pacifica', 'south asian', 'White European'], default=\"Others\", label=\"Ethnicity\")\n",
        "Jaundice = gr.inputs.Radio(['no', 'yes'], default=\"no\", label=\"Was the child born with Jaundice?\")\n",
        "Family_mem_with_ASD = gr.inputs.Radio(['no', 'yes'], default=\"no\", label=\"Does any immediate family member have ASD?\")\n",
        "\n",
        "gr.Interface(predict_autism, [A1, A2, A3,\n",
        "                  A4, A5, A6, \n",
        "                  A7, A8, A9, \n",
        "                  A10, Age_Mons, Sex, Ethnicity, Jaundice, Family_mem_with_ASD], \"text\", live=False).launch(debug=True);"
      ],
      "execution_count": null,
      "outputs": [
        {
          "output_type": "stream",
          "name": "stdout",
          "text": [
            "Colab notebook detected. This cell will run indefinitely so that you can see errors and logs. To turn off, set debug=False in launch().\n",
            "Running on public URL: https://15138.gradio.app\n",
            "\n",
            "This share link will expire in 72 hours. To get longer links, send an email to: support@gradio.app\n"
          ]
        },
        {
          "output_type": "display_data",
          "data": {
            "text/html": [
              "\n",
              "        <iframe\n",
              "            width=\"900\"\n",
              "            height=\"500\"\n",
              "            src=\"https://15138.gradio.app\"\n",
              "            frameborder=\"0\"\n",
              "            allowfullscreen\n",
              "        ></iframe>\n",
              "        "
            ],
            "text/plain": [
              "<IPython.lib.display.IFrame at 0x7f3514d65a10>"
            ]
          },
          "metadata": {}
        },
        {
          "output_type": "stream",
          "name": "stdout",
          "text": [
            "    A1   A2   A3   A4   A5  ...  Age_Mons  Sex  Ethnicity  Jaundice  Family_mem_with_ASD\n",
            "0  0.0  0.0  0.0  0.0  0.0  ...      12.9    m      black       yes                  yes\n",
            "\n",
            "[1 rows x 15 columns]\n",
            "    A1   A2   A3   A4   A5  ...  Age_Mons  Sex  Ethnicity  Jaundice  Family_mem_with_ASD\n",
            "0  0.0  0.0  1.0  1.0  1.0  ...      12.9    m      black       yes                  yes\n",
            "\n",
            "[1 rows x 15 columns]\n"
          ]
        }
      ]
    }
  ]
}